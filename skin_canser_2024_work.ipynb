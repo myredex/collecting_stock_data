{
 "cells": [
  {
   "cell_type": "code",
   "execution_count": 1,
   "id": "a12b06be",
   "metadata": {
    "_cell_guid": "b1076dfc-b9ad-4769-8c92-a6c4dae69d19",
    "_uuid": "8f2839f25d086af736a60e9eeb907d3b93b6e0e5",
    "execution": {
     "iopub.execute_input": "2024-09-02T11:04:29.799409Z",
     "iopub.status.busy": "2024-09-02T11:04:29.798820Z",
     "iopub.status.idle": "2024-09-02T11:04:35.914466Z",
     "shell.execute_reply": "2024-09-02T11:04:35.913575Z"
    },
    "papermill": {
     "duration": 6.125213,
     "end_time": "2024-09-02T11:04:35.916660",
     "exception": false,
     "start_time": "2024-09-02T11:04:29.791447",
     "status": "completed"
    },
    "tags": []
   },
   "outputs": [
    {
     "name": "stdout",
     "output_type": "stream",
     "text": [
      "Device: cuda\n"
     ]
    }
   ],
   "source": [
    "# This Python 3 environment comes with many helpful analytics libraries installed\n",
    "# It is defined by the kaggle/python Docker image: https://github.com/kaggle/docker-python\n",
    "# For example, here's several helpful packages to load\n",
    "\n",
    "import numpy as np # linear algebra\n",
    "import pandas as pd # data processing, CSV file I/O (e.g. pd.read_csv)\n",
    "import h5py\n",
    "import os\n",
    "import dill as pickle\n",
    "from io import BytesIO\n",
    "from PIL import Image\n",
    "import matplotlib.pyplot as plt\n",
    "import torch \n",
    "import torchvision\n",
    "from torchvision import datasets, transforms, models\n",
    "from torch.utils.data import random_split, DataLoader\n",
    "from torch.utils.data import Subset\n",
    "import random\n",
    "import torch.optim as optim\n",
    "import torch.nn as nn\n",
    "device = \"cuda\" if torch.cuda.is_available() else \"cpu\"\n",
    "print(f\"Device: {device}\")\n",
    "\n",
    "SEED = 42\n",
    "np.random.seed(SEED)\n",
    "random.seed(SEED)\n",
    "torch.manual_seed(SEED)\n",
    "torch.cuda.manual_seed(SEED)\n",
    "\n",
    "torch.backends.cudnn.deterministic = True\n",
    "torch.backends.cudnn.benchmark = False\n",
    "\n",
    "# You can write up to 20GB to the current directory (/kaggle/working/) that gets preserved as output when you create a version using \"Save & Run All\" \n",
    "# You can also write temporary files to /kaggle/temp/, but they won't be saved outside of the current session"
   ]
  },
  {
   "cell_type": "markdown",
   "id": "4cb1b82e",
   "metadata": {
    "papermill": {
     "duration": 0.005616,
     "end_time": "2024-09-02T11:04:35.928422",
     "exception": false,
     "start_time": "2024-09-02T11:04:35.922806",
     "status": "completed"
    },
    "tags": []
   },
   "source": [
    "## Get metric #1 and test how it works\n",
    "\n",
    "I need to understand input type, output type etc."
   ]
  },
  {
   "cell_type": "code",
   "execution_count": 2,
   "id": "74e01595",
   "metadata": {
    "execution": {
     "iopub.execute_input": "2024-09-02T11:04:35.941426Z",
     "iopub.status.busy": "2024-09-02T11:04:35.940966Z",
     "iopub.status.idle": "2024-09-02T11:04:37.008124Z",
     "shell.execute_reply": "2024-09-02T11:04:37.007186Z"
    },
    "papermill": {
     "duration": 1.07603,
     "end_time": "2024-09-02T11:04:37.010306",
     "exception": false,
     "start_time": "2024-09-02T11:04:35.934276",
     "status": "completed"
    },
    "tags": []
   },
   "outputs": [
    {
     "data": {
      "text/plain": [
       "0.04967948717948717"
      ]
     },
     "execution_count": 2,
     "metadata": {},
     "output_type": "execute_result"
    }
   ],
   "source": [
    "# Original score function changed to work without dataframe\n",
    "\"\"\"\n",
    "2024 ISIC Challenge primary prize scoring metric\n",
    "\n",
    "Given a list of binary labels, an associated list of prediction \n",
    "scores ranging from [0,1], this function produces, as a single value, \n",
    "the partial area under the receiver operating characteristic (pAUC) \n",
    "above a given true positive rate (TPR).\n",
    "https://en.wikipedia.org/wiki/Partial_Area_Under_the_ROC_Curve.\n",
    "\n",
    "(c) 2024 Nicholas R Kurtansky, MSKCC\n",
    "\"\"\"\n",
    "\n",
    "import numpy as np\n",
    "import pandas as pd\n",
    "import pandas.api.types\n",
    "from sklearn.metrics import roc_curve, auc, roc_auc_score\n",
    "\n",
    "class ParticipantVisibleError(Exception):\n",
    "    pass\n",
    "\n",
    "\n",
    "def score(y_true, y_pred, min_tpr: float=0.80) -> float:\n",
    "    '''\n",
    "    2024 ISIC Challenge metric: pAUC\n",
    "    \n",
    "    Given a solution file and submission file, this function returns the\n",
    "    the partial area under the receiver operating characteristic (pAUC) \n",
    "    above a given true positive rate (TPR) = 0.80.\n",
    "    https://en.wikipedia.org/wiki/Partial_Area_Under_the_ROC_Curve.\n",
    "    \n",
    "    (c) 2024 Nicholas R Kurtansky, MSKCC\n",
    "\n",
    "    Args:\n",
    "        solution: ground truth pd.DataFrame of 1s and 0s\n",
    "        submission: solution dataframe of predictions of scores ranging [0, 1]\n",
    "\n",
    "    Returns:\n",
    "        Float value range [0, max_fpr]\n",
    "    '''\n",
    "\n",
    "    # rescale the target. set 0s to 1s and 1s to 0s (since sklearn only has max_fpr)\n",
    "    v_gt = abs(np.asarray(y_true)-1)\n",
    "    \n",
    "    # flip the submissions to their compliments\n",
    "    v_pred = -1.0*np.asarray(y_pred)\n",
    "    \n",
    "    max_fpr = abs(1-min_tpr)\n",
    "\n",
    "    # using sklearn.metric functions: (1) roc_curve and (2) auc\n",
    "    fpr, tpr, _ = roc_curve(v_gt, v_pred, sample_weight=None)\n",
    "    if max_fpr is None or max_fpr == 1:\n",
    "        return auc(fpr, tpr)\n",
    "    if max_fpr <= 0 or max_fpr > 1:\n",
    "        raise ValueError(\"Expected min_tpr in range [0, 1), got: %r\" % min_tpr)\n",
    "        \n",
    "    # Add a single point at max_fpr by linear interpolation\n",
    "    stop = np.searchsorted(fpr, max_fpr, \"right\")\n",
    "    x_interp = [fpr[stop - 1], fpr[stop]]\n",
    "    y_interp = [tpr[stop - 1], tpr[stop]]\n",
    "    tpr = np.append(tpr[:stop], np.interp(max_fpr, x_interp, y_interp))\n",
    "    fpr = np.append(fpr[:stop], max_fpr)\n",
    "    partial_auc = auc(fpr, tpr)\n",
    "\n",
    "#     # Equivalent code that uses sklearn's roc_auc_score\n",
    "#     v_gt = abs(np.asarray(solution.values)-1)\n",
    "#     v_pred = np.array([1.0 - x for x in submission.values])\n",
    "#     max_fpr = abs(1-min_tpr)\n",
    "#     partial_auc_scaled = roc_auc_score(v_gt, v_pred, max_fpr=max_fpr)\n",
    "#     # change scale from [0.5, 1.0] to [0.5 * max_fpr**2, max_fpr]\n",
    "#     # https://math.stackexchange.com/questions/914823/shift-numbers-into-a-different-range\n",
    "#     partial_auc = 0.5 * max_fpr**2 + (max_fpr - 0.5 * max_fpr**2) / (1.0 - 0.5) * (partial_auc_scaled - 0.5)\n",
    "    \n",
    "    return(partial_auc)\n",
    "\n",
    "y_true = pd.DataFrame({'feature1': list(range(50)),\n",
    "        'target': [random.randint(0, 1) for _ in range(50)]})\n",
    "y_pred = pd.DataFrame({'feature1': list(range(50)),\n",
    "                       'target': [random.randint(0, 1) for _ in range(50)]})\n",
    "\n",
    "y_true = [random.randint(0, 1) for _ in range(50)]\n",
    "y_pred = [random.uniform(0, 1) for _ in range(50)]\n",
    "\n",
    "score(y_true, y_pred)"
   ]
  },
  {
   "cell_type": "markdown",
   "id": "2a50cdef",
   "metadata": {
    "papermill": {
     "duration": 0.005885,
     "end_time": "2024-09-02T11:04:37.022498",
     "exception": false,
     "start_time": "2024-09-02T11:04:37.016613",
     "status": "completed"
    },
    "tags": []
   },
   "source": [
    "# Create Dataset"
   ]
  },
  {
   "cell_type": "code",
   "execution_count": 3,
   "id": "8ceca98a",
   "metadata": {
    "execution": {
     "iopub.execute_input": "2024-09-02T11:04:37.036061Z",
     "iopub.status.busy": "2024-09-02T11:04:37.035526Z",
     "iopub.status.idle": "2024-09-02T11:04:43.881921Z",
     "shell.execute_reply": "2024-09-02T11:04:43.881025Z"
    },
    "papermill": {
     "duration": 6.855546,
     "end_time": "2024-09-02T11:04:43.884065",
     "exception": false,
     "start_time": "2024-09-02T11:04:37.028519",
     "status": "completed"
    },
    "tags": []
   },
   "outputs": [
    {
     "name": "stderr",
     "output_type": "stream",
     "text": [
      "/tmp/ipykernel_24/1094116626.py:2: DtypeWarning: Columns (51,52) have mixed types. Specify dtype option on import or set low_memory=False.\n",
      "  train = pd.read_csv('/kaggle/input/isic-2024-challenge/train-metadata.csv')\n"
     ]
    },
    {
     "data": {
      "text/plain": [
       "target\n",
       "0    400666\n",
       "1       393\n",
       "Name: count, dtype: int64"
      ]
     },
     "execution_count": 3,
     "metadata": {},
     "output_type": "execute_result"
    }
   ],
   "source": [
    "# Simple exploration of data\n",
    "train = pd.read_csv('/kaggle/input/isic-2024-challenge/train-metadata.csv')\n",
    "test = pd.read_csv('/kaggle/input/isic-2024-challenge/test-metadata.csv')\n",
    "train['target'].value_counts()"
   ]
  },
  {
   "cell_type": "code",
   "execution_count": 4,
   "id": "af02da3d",
   "metadata": {
    "execution": {
     "iopub.execute_input": "2024-09-02T11:04:43.898224Z",
     "iopub.status.busy": "2024-09-02T11:04:43.897645Z",
     "iopub.status.idle": "2024-09-02T11:04:43.908189Z",
     "shell.execute_reply": "2024-09-02T11:04:43.907375Z"
    },
    "papermill": {
     "duration": 0.01965,
     "end_time": "2024-09-02T11:04:43.910247",
     "exception": false,
     "start_time": "2024-09-02T11:04:43.890597",
     "status": "completed"
    },
    "tags": []
   },
   "outputs": [],
   "source": [
    "from io import BytesIO\n",
    "import h5py\n",
    "from PIL import Image\n",
    "from torch.utils.data import Dataset\n",
    "from torchvision import transforms\n",
    "\n",
    "class hdf5_dataset(Dataset):\n",
    "    \"\"\"\n",
    "    This class creates pytorch dataset from .hdf5 file\n",
    "    Args & Kwargs:\n",
    "        h5_fle: url of the h5 file with the data\n",
    "        dataframe: pandas dataframe with targets column\n",
    "        target_column: name of the column with targets if empy doesnt return target\n",
    "        transform: if transform of the data is needed\n",
    "    Example:\n",
    "        dataset = hdf5_dataset(h5_file=h5_file_url, csv_file=csv_file_url, transform=transform)\n",
    "    \"\"\"\n",
    "    \n",
    "    def __init__(self, h5_file:str, \n",
    "                 dataframe:pd.DataFrame,\n",
    "                 target_column:str=None,\n",
    "                 transform=None):\n",
    "        self.h5_file = h5_file\n",
    "        self.transform = transform\n",
    "        \n",
    "        # Open h5 file\n",
    "        self.file = h5py.File(h5_file, 'r') \n",
    "        self.keys = list(self.file.keys())\n",
    "        \n",
    "        # Read dataframe\n",
    "        self.df = dataframe\n",
    "        self.target_column = target_column\n",
    "        \n",
    "        if self.target_column:\n",
    "            self.targets = dataframe[self.target_column].values\n",
    "        \n",
    "    def __len__(self):\n",
    "        return len(self.df) # return lenth of the dataframe\n",
    "    \n",
    "    def __getitem__(self, index):\n",
    "        \n",
    "        # Get label from dataframe\n",
    "        \n",
    "        key = self.keys[index]\n",
    "        # get data from file\n",
    "        img_data = self.file[self.keys[index]][()]\n",
    "        # Decode image \n",
    "        img = Image.open(BytesIO(img_data))\n",
    "        # Transform image\n",
    "        if self.transform:\n",
    "            img = self.transform(img)\n",
    "        else:\n",
    "            # Convert to tensor if no transform is provided\n",
    "            img = transforms.ToTensor()(img)\n",
    "            \n",
    "        if self.target_column:\n",
    "            target = self.targets[index]\n",
    "            return img, target#, key            \n",
    "        else:\n",
    "            return img#, key\n",
    "    \n",
    "    def __del__(self):\n",
    "        # Close file when dataset deleted\n",
    "        if self.file:\n",
    "            self.file.close()"
   ]
  },
  {
   "cell_type": "code",
   "execution_count": 5,
   "id": "5bc0b645",
   "metadata": {
    "execution": {
     "iopub.execute_input": "2024-09-02T11:04:43.923399Z",
     "iopub.status.busy": "2024-09-02T11:04:43.923158Z",
     "iopub.status.idle": "2024-09-02T11:05:45.635734Z",
     "shell.execute_reply": "2024-09-02T11:05:45.634774Z"
    },
    "papermill": {
     "duration": 61.721589,
     "end_time": "2024-09-02T11:05:45.637817",
     "exception": false,
     "start_time": "2024-09-02T11:04:43.916228",
     "status": "completed"
    },
    "tags": []
   },
   "outputs": [
    {
     "data": {
      "text/plain": [
       "(401059, 3)"
      ]
     },
     "execution_count": 5,
     "metadata": {},
     "output_type": "execute_result"
    }
   ],
   "source": [
    "IMG_SIZE = (128, 128)\n",
    "BATCH_SIZE = 512\n",
    "\n",
    "transform = transforms.Compose([\n",
    "    transforms.Resize(IMG_SIZE),\n",
    "    transforms.ToTensor(),\n",
    "    transforms.Normalize(mean=[0.485, 0.456, 0.406], std=[0.229, 0.224, 0.225])])\n",
    "\n",
    "dataset = hdf5_dataset(h5_file='/kaggle/input/isic-2024-challenge/train-image.hdf5', \n",
    "                       dataframe=train,\n",
    "                       target_column='target',\n",
    "                       transform=transform)\n",
    "\n",
    "test_dataset = hdf5_dataset('/kaggle/input/isic-2024-challenge/test-image.hdf5', \n",
    "                       dataframe=test,\n",
    "                       transform=transform)\n",
    "\n",
    "len(dataset), len(test_dataset)"
   ]
  },
  {
   "cell_type": "markdown",
   "id": "31887603",
   "metadata": {
    "papermill": {
     "duration": 0.006013,
     "end_time": "2024-09-02T11:05:45.650410",
     "exception": false,
     "start_time": "2024-09-02T11:05:45.644397",
     "status": "completed"
    },
    "tags": []
   },
   "source": [
    "## Split Dataset into train_dataset and val_dataset\n",
    "Dataset can be unballanced so I'll use stratified ShuffleSplit"
   ]
  },
  {
   "cell_type": "code",
   "execution_count": 6,
   "id": "18a8fe27",
   "metadata": {
    "execution": {
     "iopub.execute_input": "2024-09-02T11:05:45.664645Z",
     "iopub.status.busy": "2024-09-02T11:05:45.664278Z",
     "iopub.status.idle": "2024-09-02T11:05:46.112297Z",
     "shell.execute_reply": "2024-09-02T11:05:46.111199Z"
    },
    "papermill": {
     "duration": 0.457828,
     "end_time": "2024-09-02T11:05:46.114695",
     "exception": false,
     "start_time": "2024-09-02T11:05:45.656867",
     "status": "completed"
    },
    "tags": []
   },
   "outputs": [
    {
     "name": "stdout",
     "output_type": "stream",
     "text": [
      "Return pos_weight for class 1\n",
      "Weight for pos_weight: train 1021.8057250976562, test 1015.341796875\n",
      "Dataset splitted into\n",
      "Train dataset contains of: Counter({0: 320533, 1: 314})\n",
      "Test dataset contains of: Counter({0: 80133, 1: 79})\n",
      "Lenth of datasets: 320847, 80212\n"
     ]
    }
   ],
   "source": [
    "from sklearn.model_selection import StratifiedShuffleSplit\n",
    "from torch.utils.data import Subset\n",
    "from collections import Counter\n",
    "\n",
    "def split_pytorch_dataset(dataset:torch.utils.data.Dataset,\n",
    "                          test_size:float=0.2,\n",
    "                          seed=42):\n",
    "    \"\"\"\n",
    "    Splits highly unballanced dataset into two parts.\n",
    "    Args:\n",
    "        dataset: pytorch dataset\n",
    "        test_size: float value to define size of test set\n",
    "    Returns:\n",
    "        two pytorch subsets and it's weigts\n",
    "    Example:\n",
    "        train_dataset, test_dataset, train_weights, val_weights = split_pytorch_dataset(dataset=dataset, test_size=0.2)\n",
    "    \"\"\"\n",
    "    # Get targets\n",
    "    targets = dataset.targets\n",
    "    \n",
    "    # Split only once\n",
    "    sss = StratifiedShuffleSplit(n_splits=1,\n",
    "                                 test_size=test_size,\n",
    "                                 random_state=seed)\n",
    "    \n",
    "    for train_idx, test_idx in sss.split(list(range(len(targets))), targets):\n",
    "        train_dataset = Subset(dataset, train_idx)\n",
    "        test_dataset = Subset(dataset, test_idx)\n",
    "        \n",
    "    # Count number of classes in each subset\n",
    "    train_targets = [dataset.targets[i] for i in train_idx]\n",
    "    test_targets = [dataset.targets[i] for i in test_idx]\n",
    "    \n",
    "    train_classes = Counter(train_targets)\n",
    "    test_classes = Counter(test_targets)\n",
    "    \n",
    "    # Count weights for each class\n",
    "    train_weights = {cls: len(train_idx) / count for cls, count in train_classes.items()}\n",
    "    test_weights = {cls: len(test_idx) / count for cls, count in test_classes.items()}\n",
    "   \n",
    "    # Check pos_weight for binary and weights for multiclass\n",
    "    if len(train_weights) <= 2:\n",
    "        print(\"Return pos_weight for class 1\")\n",
    "        train_weights = torch.tensor(train_weights[1], dtype=torch.float32)\n",
    "        test_weights = torch.tensor(test_weights[1], dtype=torch.float32)\n",
    "        print(f\"Weight for pos_weight: train {train_weights}, test {test_weights}\")\n",
    "    else:\n",
    "        print(\"Retun normalized weights for each class\")\n",
    "        train_total_weight = sum(train_weights.values())\n",
    "        test_total_weight = sum(test_weights.values())\n",
    "        \n",
    "        # Normalize weights\n",
    "        train_weights = {cls: weight / train_total_weight for cls, weight in train_weights.items()}\n",
    "        test_weights = {cls: weight / test_total_weight for cls, weight in test_weights.items()}\n",
    "        \n",
    "        \n",
    "        # Conver weights into tensors\n",
    "        train_weights = torch.tensor([train_weights[cls] for cls in sorted(train_weights.keys())], dtype=torch.float32)\n",
    "        test_weights = torch.tensor([test_weights[cls] for cls in sorted(test_weights.keys())], dtype=torch.float32)\n",
    "        print(f\"Weight for pos_weight: train {train_weights}, test {test_weights}\")\n",
    "        \n",
    "    print(f\"Dataset splitted into\")\n",
    "    print(f\"Train dataset contains of: {train_classes}\")\n",
    "    print(f\"Test dataset contains of: {test_classes}\")\n",
    "    print(f\"Lenth of datasets: {len(train_dataset)}, {len(test_dataset)}\")\n",
    "        \n",
    "    return train_dataset, test_dataset, train_weights, test_weights\n",
    "\n",
    "train_dataset, val_dataset, train_weights, val_weights = split_pytorch_dataset(dataset=dataset, test_size=0.2, seed=SEED)"
   ]
  },
  {
   "cell_type": "code",
   "execution_count": 7,
   "id": "c7b8de36",
   "metadata": {
    "execution": {
     "iopub.execute_input": "2024-09-02T11:05:46.129505Z",
     "iopub.status.busy": "2024-09-02T11:05:46.128631Z",
     "iopub.status.idle": "2024-09-02T11:05:46.134666Z",
     "shell.execute_reply": "2024-09-02T11:05:46.133706Z"
    },
    "papermill": {
     "duration": 0.015675,
     "end_time": "2024-09-02T11:05:46.136877",
     "exception": false,
     "start_time": "2024-09-02T11:05:46.121202",
     "status": "completed"
    },
    "tags": []
   },
   "outputs": [],
   "source": [
    "num_cores = os.cpu_count()\n",
    "# Create dataloaders\n",
    "train_dataloader = DataLoader(train_dataset, \n",
    "                             batch_size=BATCH_SIZE,\n",
    "                             shuffle=True,\n",
    "                             num_workers=num_cores)\n",
    "val_dataloader = DataLoader(val_dataset,\n",
    "                             batch_size=BATCH_SIZE,\n",
    "                             shuffle=False,\n",
    "                            num_workers=num_cores)\n",
    "test_dataloader = DataLoader(test_dataset,\n",
    "                            batch_size=BATCH_SIZE,\n",
    "                            shuffle=False)"
   ]
  },
  {
   "cell_type": "code",
   "execution_count": 8,
   "id": "878b494b",
   "metadata": {
    "execution": {
     "iopub.execute_input": "2024-09-02T11:05:46.150800Z",
     "iopub.status.busy": "2024-09-02T11:05:46.150345Z",
     "iopub.status.idle": "2024-09-02T11:05:46.153956Z",
     "shell.execute_reply": "2024-09-02T11:05:46.153052Z"
    },
    "papermill": {
     "duration": 0.012763,
     "end_time": "2024-09-02T11:05:46.155917",
     "exception": false,
     "start_time": "2024-09-02T11:05:46.143154",
     "status": "completed"
    },
    "tags": []
   },
   "outputs": [],
   "source": [
    "# train_weights2 = train_weights[1:].to(device)\n",
    "# train_weights2"
   ]
  },
  {
   "cell_type": "markdown",
   "id": "e6f6f57c",
   "metadata": {
    "papermill": {
     "duration": 0.006139,
     "end_time": "2024-09-02T11:05:46.169351",
     "exception": false,
     "start_time": "2024-09-02T11:05:46.163212",
     "status": "completed"
    },
    "tags": []
   },
   "source": [
    "## Create CV model"
   ]
  },
  {
   "cell_type": "code",
   "execution_count": 9,
   "id": "4300cabe",
   "metadata": {
    "execution": {
     "iopub.execute_input": "2024-09-02T11:05:46.183225Z",
     "iopub.status.busy": "2024-09-02T11:05:46.182657Z",
     "iopub.status.idle": "2024-09-02T11:05:46.189156Z",
     "shell.execute_reply": "2024-09-02T11:05:46.188320Z"
    },
    "papermill": {
     "duration": 0.015363,
     "end_time": "2024-09-02T11:05:46.191055",
     "exception": false,
     "start_time": "2024-09-02T11:05:46.175692",
     "status": "completed"
    },
    "tags": []
   },
   "outputs": [],
   "source": [
    "class ResNetCNN(nn.Module):\n",
    "    def __init__(self):\n",
    "        super(ResNetCNN, self).__init__()\n",
    "        \n",
    "        # Load weights\n",
    "        weights = torchvision.models.ResNet50_Weights.IMAGENET1K_V2 # Load weights\n",
    "        self.model = torchvision.models.resnet50(weights=weights) # Load model\n",
    "        \n",
    "        for name, param in self.model.named_parameters():\n",
    "            param.requires_grad = False\n",
    "            \n",
    "        self.model.fc = nn.Sequential(nn.Linear(self.model.fc.in_features, 224),\n",
    "                                     nn.ReLU(),\n",
    "                                     nn.Dropout(),\n",
    "                                     nn.Linear(224, 1), # This is for binary classification\n",
    "                                     nn.Sigmoid())\n",
    "        \n",
    "    def forward(self, x):\n",
    "        return self.model(x)"
   ]
  },
  {
   "cell_type": "code",
   "execution_count": 10,
   "id": "677834b2",
   "metadata": {
    "execution": {
     "iopub.execute_input": "2024-09-02T11:05:46.204957Z",
     "iopub.status.busy": "2024-09-02T11:05:46.204709Z",
     "iopub.status.idle": "2024-09-02T11:05:53.640213Z",
     "shell.execute_reply": "2024-09-02T11:05:53.639446Z"
    },
    "papermill": {
     "duration": 7.444962,
     "end_time": "2024-09-02T11:05:53.642492",
     "exception": false,
     "start_time": "2024-09-02T11:05:46.197530",
     "status": "completed"
    },
    "tags": []
   },
   "outputs": [
    {
     "name": "stderr",
     "output_type": "stream",
     "text": [
      "Downloading: \"https://download.pytorch.org/models/resnet50-11ad3fa6.pth\" to /root/.cache/torch/hub/checkpoints/resnet50-11ad3fa6.pth\n",
      "100%|██████████| 97.8M/97.8M [00:05<00:00, 17.7MB/s]\n"
     ]
    }
   ],
   "source": [
    "model = ResNetCNN()\n",
    "model = torch.nn.DataParallel(model)\n",
    "\n",
    "loss_fn = nn.BCEWithLogitsLoss(pos_weight=train_weights.to(device))\n",
    "optimizer = optim.Adam(params=model.parameters(),\n",
    "                      lr=0.0001)"
   ]
  },
  {
   "cell_type": "code",
   "execution_count": 11,
   "id": "6fce8f0a",
   "metadata": {
    "_kg_hide-input": false,
    "execution": {
     "iopub.execute_input": "2024-09-02T11:05:53.662818Z",
     "iopub.status.busy": "2024-09-02T11:05:53.662540Z",
     "iopub.status.idle": "2024-09-02T11:05:53.684942Z",
     "shell.execute_reply": "2024-09-02T11:05:53.684058Z"
    },
    "papermill": {
     "duration": 0.034835,
     "end_time": "2024-09-02T11:05:53.686883",
     "exception": false,
     "start_time": "2024-09-02T11:05:53.652048",
     "status": "completed"
    },
    "tags": []
   },
   "outputs": [],
   "source": [
    "from tqdm.auto import tqdm\n",
    "\n",
    "def train_step(model: torch.nn.Module,\n",
    "               dataloader: torch.utils.data.DataLoader,\n",
    "               loss_fn: torch.nn.Module,\n",
    "               optimizer: torch.optim.Optimizer,\n",
    "               device: torch.device):\n",
    "\n",
    "    \"\"\"\n",
    "    Trains PyTorch model for one epoch.\n",
    "    Args:\n",
    "        model: PyTorch model\n",
    "        dataloader: A DataLoader instance\n",
    "        metric_function: for example accuracy, f1, etc. or custom \n",
    "        gets y_true and y_pred arrays \n",
    "        loss_fn: Loss function\n",
    "        optimizer: Optimizer\n",
    "\n",
    "    Returns:\n",
    "        A tuple of training loss and predictions\n",
    "    \"\"\"\n",
    "    train_loss = 0\n",
    "    \n",
    "    y_preds, y_trues = [], []\n",
    "    \n",
    "    # Turn on train mode\n",
    "    model.train()\n",
    "    for batch, (X, y) in tqdm(enumerate(dataloader)):\n",
    "        \n",
    "        # Send data to device\n",
    "        X, y = X.to(device), y.to(torch.float32).to(device)\n",
    "\n",
    "        # Forward pass\n",
    "        y_preds_batch = model(X)\n",
    "        \n",
    "        # Calculate the losss\n",
    "        loss = loss_fn(torch.squeeze(y_preds_batch, dim=1), y)\n",
    "        \n",
    "        train_loss += loss.item()\n",
    "        # Optimizer zero grad\n",
    "        optimizer.zero_grad()\n",
    "        # Loss backward\n",
    "        loss.backward()\n",
    "        # Optimizer step\n",
    "        optimizer.step()\n",
    "        \n",
    "        # Collect preds and trues\n",
    "        y_trues.extend(y.detach().cpu().numpy())\n",
    "        y_preds.extend(torch.squeeze(y_preds_batch, dim=1).detach().cpu().numpy())\n",
    "\n",
    "    train_loss = train_loss / len(dataloader)\n",
    "\n",
    "    return train_loss, np.array(y_preds), np.array(y_trues)\n",
    "\n",
    "\n",
    "def val_step(model: torch.nn.Module,\n",
    "             dataloader: torch.utils.data.DataLoader,\n",
    "             loss_fn: torch.nn.Module,\n",
    "             device: torch.device):\n",
    "\n",
    "    \"\"\"\n",
    "    Performs PyTorch model's validation during one epoch.\n",
    "    Args:\n",
    "    model: PyTorch model\n",
    "    dataloader: A DataLoader instance\n",
    "    loss_fn: Loss function\n",
    "    device: Device \"cpu\" or \"cuda\"\n",
    "\n",
    "    Returns:\n",
    "    A tuple of val loss and accuracy\n",
    "    \"\"\"\n",
    "    val_loss = 0\n",
    "    y_trues, y_preds = [], []\n",
    "    \n",
    "    # Turn on eval mode\n",
    "    model.eval()\n",
    "    \n",
    "    with torch.inference_mode():\n",
    "\n",
    "        for batch, (X, y) in enumerate(dataloader):\n",
    "\n",
    "            # Send data to device\n",
    "            X, y = X.to(device), y.to(torch.float32).to(device)\n",
    "\n",
    "            # Forward pass\n",
    "            y_preds_batch = model(X) \n",
    "             \n",
    "            # Calculate the losss\n",
    "            loss = loss_fn(torch.squeeze(y_preds_batch, dim=1), y)\n",
    "\n",
    "            val_loss += loss.item()\n",
    "            \n",
    "            y_trues.extend(y.detach().cpu().numpy())\n",
    "            y_preds.extend(torch.squeeze(y_preds_batch, dim=1).detach().cpu().numpy())\n",
    "        \n",
    "    val_loss = val_loss / len(dataloader)\n",
    "\n",
    "    return val_loss, np.array(y_preds), np.array(y_trues)\n",
    "\n",
    "\n",
    "def get_predictions(model: torch.nn.Module,\n",
    "                    dataloader: torch.utils.data.DataLoader,\n",
    "                    device: torch.device):\n",
    "\n",
    "    \"\"\"\n",
    "    Performs PyTorch model's predictions\n",
    "    Args:\n",
    "        model: PyTorch model\n",
    "        dataloader: A DataLoader instance \n",
    "\n",
    "    Returns:\n",
    "        predictons in np.array\n",
    "    \"\"\"\n",
    "    y_preds = []\n",
    "    \n",
    "    # Turn on eval mode\n",
    "    model.eval()\n",
    "    \n",
    "    with torch.inference_mode():\n",
    "\n",
    "        for batch, (X) in enumerate(dataloader):\n",
    "\n",
    "            # Send data to device\n",
    "            X = X.to(device)\n",
    "\n",
    "            # Make predictions\n",
    "            y_preds_batch = model(X) \n",
    "            \n",
    "            # Put preds into list in np format\n",
    "            y_preds.extend(torch.squeeze(y_preds_batch, dim=1).detach().cpu().numpy())\n",
    "\n",
    "    return np.array(y_preds)\n",
    "\n",
    "\n",
    "def train_model(model: torch.nn.Module,\n",
    "                metric_function,\n",
    "                train_dataloader: torch.utils.data.DataLoader,\n",
    "                val_dataloader: torch.utils.data.DataLoader,\n",
    "                optimizer: torch.optim.Optimizer,\n",
    "                loss_fn: torch.nn.Module,\n",
    "                epochs: int,\n",
    "                device: torch.device):\n",
    "\n",
    "    \"\"\"\n",
    "    Trains PyTorch model for N epochs\n",
    "    Args: \n",
    "        model: Pytorch model\n",
    "        metric_function: Some function that gets y_true and y_pred as input and returns score\n",
    "        train_dataloader: Pytorch dataloader\n",
    "        val_dataloader: Pytorch validation dataloader\n",
    "        optimizer: Pytorch optimizer\n",
    "        loss_fn: Loss function\n",
    "        epochs: number of epochs to train\n",
    "        device: CPU or CUDA\n",
    "        \n",
    "    Returns:\n",
    "        Dictionaries of Train Loss, Val Loss, Train Acc, Val Accuracy.\n",
    "        If test dataloader in input it also returns final test Loss and Test accuracy\n",
    "    \"\"\"\n",
    "    # Move model to device\n",
    "    model.to(device)\n",
    "    print(f\"Device: {device}\")\n",
    "\n",
    "    train_metrics, val_metrics, train_loss, val_loss = [], [], [], []\n",
    "\n",
    "    for epoch in tqdm(range(epochs)):\n",
    "        # Run train and collect results in list\n",
    "        train_loss_ep, train_preds_ep, train_true_labels = train_step(model=model,\n",
    "                                                    dataloader=train_dataloader,\n",
    "                                                    loss_fn=loss_fn,\n",
    "                                                    optimizer=optimizer,\n",
    "                                                    device=device)\n",
    "        train_loss.append(train_loss_ep)\n",
    "\n",
    "        # Run validation and collect preds in list\n",
    "        val_loss_ep, val_preds_ep, val_true_labels = val_step(model=model,\n",
    "                                              dataloader=val_dataloader,\n",
    "                                              loss_fn=loss_fn,\n",
    "                                              device=device)\n",
    "        val_loss.append(val_loss_ep)\n",
    "        \n",
    "        # Count metric for epoch\n",
    "        train_metric_ep = metric_function(y_true=train_true_labels,\n",
    "                                          y_pred=train_preds_ep)\n",
    "        val_metric_ep = metric_function(y_true=val_true_labels,\n",
    "                                        y_pred=val_preds_ep)\n",
    "        \n",
    "        train_metrics.append(train_metric_ep)\n",
    "        val_metrics.append(val_metric_ep)\n",
    "        \n",
    "        print(f\"\"\"Epoch {epoch+1}_ _ _ _ _ _ _ _ _ _\n",
    "              Train loss: {train_loss_ep:.5f}\n",
    "              Val   loss: {val_loss_ep:.5f}\n",
    "              Train metric: {train_metric_ep:.5f}\n",
    "              Val   metric: {val_metric_ep:.5f}\"\"\")\n",
    "    \n",
    "    return train_metrics, val_metrics, train_loss, val_loss"
   ]
  },
  {
   "cell_type": "code",
   "execution_count": 12,
   "id": "629cb212",
   "metadata": {
    "execution": {
     "iopub.execute_input": "2024-09-02T11:05:53.706461Z",
     "iopub.status.busy": "2024-09-02T11:05:53.706203Z",
     "iopub.status.idle": "2024-09-02T11:10:55.566725Z",
     "shell.execute_reply": "2024-09-02T11:10:55.565868Z"
    },
    "papermill": {
     "duration": 301.873146,
     "end_time": "2024-09-02T11:10:55.569237",
     "exception": false,
     "start_time": "2024-09-02T11:05:53.696091",
     "status": "completed"
    },
    "tags": []
   },
   "outputs": [
    {
     "name": "stdout",
     "output_type": "stream",
     "text": [
      "Device: cuda\n"
     ]
    },
    {
     "data": {
      "application/vnd.jupyter.widget-view+json": {
       "model_id": "9e582213bbcc49e5b9a31398c5c30b1c",
       "version_major": 2,
       "version_minor": 0
      },
      "text/plain": [
       "  0%|          | 0/1 [00:00<?, ?it/s]"
      ]
     },
     "metadata": {},
     "output_type": "display_data"
    },
    {
     "data": {
      "application/vnd.jupyter.widget-view+json": {
       "model_id": "bd778fab1b4e40ec94bd048ea5af1360",
       "version_major": 2,
       "version_minor": 0
      },
      "text/plain": [
       "0it [00:00, ?it/s]"
      ]
     },
     "metadata": {},
     "output_type": "display_data"
    },
    {
     "name": "stdout",
     "output_type": "stream",
     "text": [
      "Epoch 1_ _ _ _ _ _ _ _ _ _\n",
      "              Train loss: 1.38408\n",
      "              Val   loss: 1.37276\n",
      "              Train metric: 0.02087\n",
      "              Val   metric: 0.03998\n"
     ]
    }
   ],
   "source": [
    "train_acc, val_acc, train_loss, val_loss =train_model(model=model,\n",
    "                                                      metric_function=score,\n",
    "                                                        train_dataloader=train_dataloader,\n",
    "                                                        val_dataloader=val_dataloader,\n",
    "                                                        optimizer=optimizer,\n",
    "                                                        loss_fn=loss_fn,\n",
    "                                                        epochs=1,\n",
    "                                                        device=device)\n",
    "\n",
    "# Save model\n",
    "with open('model.pkl', 'wb') as file:\n",
    "    pickle.dump(model, file)"
   ]
  },
  {
   "cell_type": "code",
   "execution_count": 13,
   "id": "d4fbb6ec",
   "metadata": {
    "execution": {
     "iopub.execute_input": "2024-09-02T11:10:55.590684Z",
     "iopub.status.busy": "2024-09-02T11:10:55.590142Z",
     "iopub.status.idle": "2024-09-02T11:10:56.080725Z",
     "shell.execute_reply": "2024-09-02T11:10:56.079822Z"
    },
    "papermill": {
     "duration": 0.503292,
     "end_time": "2024-09-02T11:10:56.082651",
     "exception": false,
     "start_time": "2024-09-02T11:10:55.579359",
     "status": "completed"
    },
    "tags": []
   },
   "outputs": [
    {
     "data": {
      "image/png": "[encoded data removed]",
      "text/plain": [
       "<Figure size 1000x500 with 2 Axes>"
      ]
     },
     "metadata": {},
     "output_type": "display_data"
    }
   ],
   "source": [
    "def plot_loss_curves(train_acc, val_acc, train_loss, val_loss):\n",
    "    plt.figure(figsize=(10, 5))\n",
    "    plt.subplot(1, 2, 1)\n",
    "    plt.plot(train_acc, c=\"green\", label=\"train_acc\")\n",
    "    plt.plot(val_acc, c=\"green\", linestyle=\"dashed\", label=\"val_acc\")\n",
    "    plt.title(\"Accuracy\")\n",
    "    plt.legend()\n",
    "\n",
    "    plt.subplot(1, 2, 2)\n",
    "\n",
    "    plt.plot(train_loss, c=\"blue\", label=\"train_loss\")\n",
    "    plt.plot(val_loss, c=\"blue\", linestyle=\"dashed\", label=\"val_loss\")\n",
    "    plt.legend()\n",
    "    plt.title(\"Loss\")\n",
    "    plt.show()\n",
    "\n",
    "plot_loss_curves(train_acc,\n",
    "                 val_acc,\n",
    "                 train_loss,\n",
    "                 val_loss)"
   ]
  },
  {
   "cell_type": "markdown",
   "id": "bb362375",
   "metadata": {
    "papermill": {
     "duration": 0.010108,
     "end_time": "2024-09-02T11:10:56.103287",
     "exception": false,
     "start_time": "2024-09-02T11:10:56.093179",
     "status": "completed"
    },
    "tags": []
   },
   "source": [
    "## Make predictions"
   ]
  },
  {
   "cell_type": "code",
   "execution_count": 14,
   "id": "f2a206bd",
   "metadata": {
    "execution": {
     "iopub.execute_input": "2024-09-02T11:10:56.124929Z",
     "iopub.status.busy": "2024-09-02T11:10:56.124283Z",
     "iopub.status.idle": "2024-09-02T11:10:56.300043Z",
     "shell.execute_reply": "2024-09-02T11:10:56.299067Z"
    },
    "papermill": {
     "duration": 0.188814,
     "end_time": "2024-09-02T11:10:56.302190",
     "exception": false,
     "start_time": "2024-09-02T11:10:56.113376",
     "status": "completed"
    },
    "tags": []
   },
   "outputs": [
    {
     "data": {
      "text/html": [
       "<div>\n",
       "<style scoped>\n",
       "    .dataframe tbody tr th:only-of-type {\n",
       "        vertical-align: middle;\n",
       "    }\n",
       "\n",
       "    .dataframe tbody tr th {\n",
       "        vertical-align: top;\n",
       "    }\n",
       "\n",
       "    .dataframe thead th {\n",
       "        text-align: right;\n",
       "    }\n",
       "</style>\n",
       "<table border=\"1\" class=\"dataframe\">\n",
       "  <thead>\n",
       "    <tr style=\"text-align: right;\">\n",
       "      <th></th>\n",
       "      <th>isic_id</th>\n",
       "      <th>target</th>\n",
       "    </tr>\n",
       "  </thead>\n",
       "  <tbody>\n",
       "    <tr>\n",
       "      <th>0</th>\n",
       "      <td>ISIC_0015657</td>\n",
       "      <td>0.232138</td>\n",
       "    </tr>\n",
       "    <tr>\n",
       "      <th>1</th>\n",
       "      <td>ISIC_0015729</td>\n",
       "      <td>0.033327</td>\n",
       "    </tr>\n",
       "    <tr>\n",
       "      <th>2</th>\n",
       "      <td>ISIC_0015740</td>\n",
       "      <td>0.143333</td>\n",
       "    </tr>\n",
       "  </tbody>\n",
       "</table>\n",
       "</div>"
      ],
      "text/plain": [
       "        isic_id    target\n",
       "0  ISIC_0015657  0.232138\n",
       "1  ISIC_0015729  0.033327\n",
       "2  ISIC_0015740  0.143333"
      ]
     },
     "execution_count": 14,
     "metadata": {},
     "output_type": "execute_result"
    }
   ],
   "source": [
    "preds = get_predictions(model=model,\n",
    "                        dataloader=test_dataloader,\n",
    "                        device=device)\n",
    "\n",
    "test_df = pd.DataFrame({'isic_id': test['isic_id'].values,\n",
    "                        'target': preds})\n",
    "\n",
    "test_df.to_csv('submission.csv', index=False)\n",
    "\n",
    "test_df"
   ]
  }
 ],
 "metadata": {
  "kaggle": {
   "accelerator": "nvidiaTeslaT4",
   "dataSources": [
    {
     "databundleVersionId": 9094797,
     "sourceId": 63056,
     "sourceType": "competition"
    }
   ],
   "dockerImageVersionId": 30746,
   "isGpuEnabled": true,
   "isInternetEnabled": true,
   "language": "python",
   "sourceType": "notebook"
  },
  "kernelspec": {
   "display_name": "Python 3",
   "language": "python",
   "name": "python3"
  },
  "language_info": {
   "codemirror_mode": {
    "name": "ipython",
    "version": 3
   },
   "file_extension": ".py",
   "mimetype": "text/x-python",
   "name": "python",
   "nbconvert_exporter": "python",
   "pygments_lexer": "ipython3",
   "version": "3.10.13"
  },
  "papermill": {
   "default_parameters": {},
   "duration": 391.080772,
   "end_time": "2024-09-02T11:10:58.136262",
   "environment_variables": {},
   "exception": null,
   "input_path": "__notebook__.ipynb",
   "output_path": "__notebook__.ipynb",
   "parameters": {},
   "start_time": "2024-09-02T11:04:27.055490",
   "version": "2.5.0"
  },
  "widgets": {
   "application/vnd.jupyter.widget-state+json": {
    "state": {
     "09e64c13fc0c4ef2916a45d56aa30f61": {
      "model_module": "@jupyter-widgets/base",
      "model_module_version": "1.2.0",
      "model_name": "LayoutModel",
      "state": {
       "_model_module": "@jupyter-widgets/base",
       "_model_module_version": "1.2.0",
       "_model_name": "LayoutModel",
       "_view_count": null,
       "_view_module": "@jupyter-widgets/base",
       "_view_module_version": "1.2.0",
       "_view_name": "LayoutView",
       "align_content": null,
       "align_items": null,
       "align_self": null,
       "border": null,
       "bottom": null,
       "display": null,
       "flex": null,
       "flex_flow": null,
       "grid_area": null,
       "grid_auto_columns": null,
       "grid_auto_flow": null,
       "grid_auto_rows": null,
       "grid_column": null,
       "grid_gap": null,
       "grid_row": null,
       "grid_template_areas": null,
       "grid_template_columns": null,
       "grid_template_rows": null,
       "height": null,
       "justify_content": null,
       "justify_items": null,
       "left": null,
       "margin": null,
       "max_height": null,
       "max_width": null,
       "min_height": null,
       "min_width": null,
       "object_fit": null,
       "object_position": null,
       "order": null,
       "overflow": null,
       "overflow_x": null,
       "overflow_y": null,
       "padding": null,
       "right": null,
       "top": null,
       "visibility": null,
       "width": null
      }
     },
     "1fcfd0f516734fa79a0ef06e75df3014": {
      "model_module": "@jupyter-widgets/controls",
      "model_module_version": "1.5.0",
      "model_name": "DescriptionStyleModel",
      "state": {
       "_model_module": "@jupyter-widgets/controls",
       "_model_module_version": "1.5.0",
       "_model_name": "DescriptionStyleModel",
       "_view_count": null,
       "_view_module": "@jupyter-widgets/base",
       "_view_module_version": "1.2.0",
       "_view_name": "StyleView",
       "description_width": ""
      }
     },
     "30a8d8a0fd5e4dc6a1105987f9c45c3d": {
      "model_module": "@jupyter-widgets/controls",
      "model_module_version": "1.5.0",
      "model_name": "FloatProgressModel",
      "state": {
       "_dom_classes": [],
       "_model_module": "@jupyter-widgets/controls",
       "_model_module_version": "1.5.0",
       "_model_name": "FloatProgressModel",
       "_view_count": null,
       "_view_module": "@jupyter-widgets/controls",
       "_view_module_version": "1.5.0",
       "_view_name": "ProgressView",
       "bar_style": "success",
       "description": "",
       "description_tooltip": null,
       "layout": "IPY_MODEL_d055ba0d69df42fabf48d54d17251b33",
       "max": 1.0,
       "min": 0.0,
       "orientation": "horizontal",
       "style": "IPY_MODEL_84643271b7594e67b566f5b9dbd6a83a",
       "value": 1.0
      }
     },
     "4e16dc3187e140c783d535571aca8547": {
      "model_module": "@jupyter-widgets/controls",
      "model_module_version": "1.5.0",
      "model_name": "DescriptionStyleModel",
      "state": {
       "_model_module": "@jupyter-widgets/controls",
       "_model_module_version": "1.5.0",
       "_model_name": "DescriptionStyleModel",
       "_view_count": null,
       "_view_module": "@jupyter-widgets/base",
       "_view_module_version": "1.2.0",
       "_view_name": "StyleView",
       "description_width": ""
      }
     },
     "5390760a04514eaea7febeb817bc04f4": {
      "model_module": "@jupyter-widgets/base",
      "model_module_version": "1.2.0",
      "model_name": "LayoutModel",
      "state": {
       "_model_module": "@jupyter-widgets/base",
       "_model_module_version": "1.2.0",
       "_model_name": "LayoutModel",
       "_view_count": null,
       "_view_module": "@jupyter-widgets/base",
       "_view_module_version": "1.2.0",
       "_view_name": "LayoutView",
       "align_content": null,
       "align_items": null,
       "align_self": null,
       "border": null,
       "bottom": null,
       "display": null,
       "flex": null,
       "flex_flow": null,
       "grid_area": null,
       "grid_auto_columns": null,
       "grid_auto_flow": null,
       "grid_auto_rows": null,
       "grid_column": null,
       "grid_gap": null,
       "grid_row": null,
       "grid_template_areas": null,
       "grid_template_columns": null,
       "grid_template_rows": null,
       "height": null,
       "justify_content": null,
       "justify_items": null,
       "left": null,
       "margin": null,
       "max_height": null,
       "max_width": null,
       "min_height": null,
       "min_width": null,
       "object_fit": null,
       "object_position": null,
       "order": null,
       "overflow": null,
       "overflow_x": null,
       "overflow_y": null,
       "padding": null,
       "right": null,
       "top": null,
       "visibility": null,
       "width": null
      }
     },
     "6c90aedaf4b443f9a09bce0ee875a159": {
      "model_module": "@jupyter-widgets/base",
      "model_module_version": "1.2.0",
      "model_name": "LayoutModel",
      "state": {
       "_model_module": "@jupyter-widgets/base",
       "_model_module_version": "1.2.0",
       "_model_name": "LayoutModel",
       "_view_count": null,
       "_view_module": "@jupyter-widgets/base",
       "_view_module_version": "1.2.0",
       "_view_name": "LayoutView",
       "align_content": null,
       "align_items": null,
       "align_self": null,
       "border": null,
       "bottom": null,
       "display": null,
       "flex": null,
       "flex_flow": null,
       "grid_area": null,
       "grid_auto_columns": null,
       "grid_auto_flow": null,
       "grid_auto_rows": null,
       "grid_column": null,
       "grid_gap": null,
       "grid_row": null,
       "grid_template_areas": null,
       "grid_template_columns": null,
       "grid_template_rows": null,
       "height": null,
       "justify_content": null,
       "justify_items": null,
       "left": null,
       "margin": null,
       "max_height": null,
       "max_width": null,
       "min_height": null,
       "min_width": null,
       "object_fit": null,
       "object_position": null,
       "order": null,
       "overflow": null,
       "overflow_x": null,
       "overflow_y": null,
       "padding": null,
       "right": null,
       "top": null,
       "visibility": null,
       "width": null
      }
     },
     "84643271b7594e67b566f5b9dbd6a83a": {
      "model_module": "@jupyter-widgets/controls",
      "model_module_version": "1.5.0",
      "model_name": "ProgressStyleModel",
      "state": {
       "_model_module": "@jupyter-widgets/controls",
       "_model_module_version": "1.5.0",
       "_model_name": "ProgressStyleModel",
       "_view_count": null,
       "_view_module": "@jupyter-widgets/base",
       "_view_module_version": "1.2.0",
       "_view_name": "StyleView",
       "bar_color": null,
       "description_width": ""
      }
     },
     "898e6173c6bb40cc838c7bc428fd22ee": {
      "model_module": "@jupyter-widgets/base",
      "model_module_version": "1.2.0",
      "model_name": "LayoutModel",
      "state": {
       "_model_module": "@jupyter-widgets/base",
       "_model_module_version": "1.2.0",
       "_model_name": "LayoutModel",
       "_view_count": null,
       "_view_module": "@jupyter-widgets/base",
       "_view_module_version": "1.2.0",
       "_view_name": "LayoutView",
       "align_content": null,
       "align_items": null,
       "align_self": null,
       "border": null,
       "bottom": null,
       "display": null,
       "flex": null,
       "flex_flow": null,
       "grid_area": null,
       "grid_auto_columns": null,
       "grid_auto_flow": null,
       "grid_auto_rows": null,
       "grid_column": null,
       "grid_gap": null,
       "grid_row": null,
       "grid_template_areas": null,
       "grid_template_columns": null,
       "grid_template_rows": null,
       "height": null,
       "justify_content": null,
       "justify_items": null,
       "left": null,
       "margin": null,
       "max_height": null,
       "max_width": null,
       "min_height": null,
       "min_width": null,
       "object_fit": null,
       "object_position": null,
       "order": null,
       "overflow": null,
       "overflow_x": null,
       "overflow_y": null,
       "padding": null,
       "right": null,
       "top": null,
       "visibility": null,
       "width": null
      }
     },
     "99c937fa250045999dc3186a458b9d78": {
      "model_module": "@jupyter-widgets/base",
      "model_module_version": "1.2.0",
      "model_name": "LayoutModel",
      "state": {
       "_model_module": "@jupyter-widgets/base",
       "_model_module_version": "1.2.0",
       "_model_name": "LayoutModel",
       "_view_count": null,
       "_view_module": "@jupyter-widgets/base",
       "_view_module_version": "1.2.0",
       "_view_name": "LayoutView",
       "align_content": null,
       "align_items": null,
       "align_self": null,
       "border": null,
       "bottom": null,
       "display": null,
       "flex": null,
       "flex_flow": null,
       "grid_area": null,
       "grid_auto_columns": null,
       "grid_auto_flow": null,
       "grid_auto_rows": null,
       "grid_column": null,
       "grid_gap": null,
       "grid_row": null,
       "grid_template_areas": null,
       "grid_template_columns": null,
       "grid_template_rows": null,
       "height": null,
       "justify_content": null,
       "justify_items": null,
       "left": null,
       "margin": null,
       "max_height": null,
       "max_width": null,
       "min_height": null,
       "min_width": null,
       "object_fit": null,
       "object_position": null,
       "order": null,
       "overflow": null,
       "overflow_x": null,
       "overflow_y": null,
       "padding": null,
       "right": null,
       "top": null,
       "visibility": null,
       "width": null
      }
     },
     "9e582213bbcc49e5b9a31398c5c30b1c": {
      "model_module": "@jupyter-widgets/controls",
      "model_module_version": "1.5.0",
      "model_name": "HBoxModel",
      "state": {
       "_dom_classes": [],
       "_model_module": "@jupyter-widgets/controls",
       "_model_module_version": "1.5.0",
       "_model_name": "HBoxModel",
       "_view_count": null,
       "_view_module": "@jupyter-widgets/controls",
       "_view_module_version": "1.5.0",
       "_view_name": "HBoxView",
       "box_style": "",
       "children": [
        "IPY_MODEL_a4f9882b70c247b68e4864dc45ec327d",
        "IPY_MODEL_aaa33834c4f240f495dd15bfde1134d5",
        "IPY_MODEL_bc08f493489947b7b3cdcd861e630a41"
       ],
       "layout": "IPY_MODEL_5390760a04514eaea7febeb817bc04f4"
      }
     },
     "a0ecbc1847f54d99b7770b14cb42fde2": {
      "model_module": "@jupyter-widgets/base",
      "model_module_version": "1.2.0",
      "model_name": "LayoutModel",
      "state": {
       "_model_module": "@jupyter-widgets/base",
       "_model_module_version": "1.2.0",
       "_model_name": "LayoutModel",
       "_view_count": null,
       "_view_module": "@jupyter-widgets/base",
       "_view_module_version": "1.2.0",
       "_view_name": "LayoutView",
       "align_content": null,
       "align_items": null,
       "align_self": null,
       "border": null,
       "bottom": null,
       "display": null,
       "flex": null,
       "flex_flow": null,
       "grid_area": null,
       "grid_auto_columns": null,
       "grid_auto_flow": null,
       "grid_auto_rows": null,
       "grid_column": null,
       "grid_gap": null,
       "grid_row": null,
       "grid_template_areas": null,
       "grid_template_columns": null,
       "grid_template_rows": null,
       "height": null,
       "justify_content": null,
       "justify_items": null,
       "left": null,
       "margin": null,
       "max_height": null,
       "max_width": null,
       "min_height": null,
       "min_width": null,
       "object_fit": null,
       "object_position": null,
       "order": null,
       "overflow": null,
       "overflow_x": null,
       "overflow_y": null,
       "padding": null,
       "right": null,
       "top": null,
       "visibility": null,
       "width": null
      }
     },
     "a4f9882b70c247b68e4864dc45ec327d": {
      "model_module": "@jupyter-widgets/controls",
      "model_module_version": "1.5.0",
      "model_name": "HTMLModel",
      "state": {
       "_dom_classes": [],
       "_model_module": "@jupyter-widgets/controls",
       "_model_module_version": "1.5.0",
       "_model_name": "HTMLModel",
       "_view_count": null,
       "_view_module": "@jupyter-widgets/controls",
       "_view_module_version": "1.5.0",
       "_view_name": "HTMLView",
       "description": "",
       "description_tooltip": null,
       "layout": "IPY_MODEL_a0ecbc1847f54d99b7770b14cb42fde2",
       "placeholder": "​",
       "style": "IPY_MODEL_b0a953c2df524a0896074c730582cd97",
       "value": "100%"
      }
     },
     "aaa33834c4f240f495dd15bfde1134d5": {
      "model_module": "@jupyter-widgets/controls",
      "model_module_version": "1.5.0",
      "model_name": "FloatProgressModel",
      "state": {
       "_dom_classes": [],
       "_model_module": "@jupyter-widgets/controls",
       "_model_module_version": "1.5.0",
       "_model_name": "FloatProgressModel",
       "_view_count": null,
       "_view_module": "@jupyter-widgets/controls",
       "_view_module_version": "1.5.0",
       "_view_name": "ProgressView",
       "bar_style": "success",
       "description": "",
       "description_tooltip": null,
       "layout": "IPY_MODEL_99c937fa250045999dc3186a458b9d78",
       "max": 1.0,
       "min": 0.0,
       "orientation": "horizontal",
       "style": "IPY_MODEL_acfa41d6524a41e7aaf7e89e1490f328",
       "value": 1.0
      }
     },
     "acfa41d6524a41e7aaf7e89e1490f328": {
      "model_module": "@jupyter-widgets/controls",
      "model_module_version": "1.5.0",
      "model_name": "ProgressStyleModel",
      "state": {
       "_model_module": "@jupyter-widgets/controls",
       "_model_module_version": "1.5.0",
       "_model_name": "ProgressStyleModel",
       "_view_count": null,
       "_view_module": "@jupyter-widgets/base",
       "_view_module_version": "1.2.0",
       "_view_name": "StyleView",
       "bar_color": null,
       "description_width": ""
      }
     },
     "b0a953c2df524a0896074c730582cd97": {
      "model_module": "@jupyter-widgets/controls",
      "model_module_version": "1.5.0",
      "model_name": "DescriptionStyleModel",
      "state": {
       "_model_module": "@jupyter-widgets/controls",
       "_model_module_version": "1.5.0",
       "_model_name": "DescriptionStyleModel",
       "_view_count": null,
       "_view_module": "@jupyter-widgets/base",
       "_view_module_version": "1.2.0",
       "_view_name": "StyleView",
       "description_width": ""
      }
     },
     "bc08f493489947b7b3cdcd861e630a41": {
      "model_module": "@jupyter-widgets/controls",
      "model_module_version": "1.5.0",
      "model_name": "HTMLModel",
      "state": {
       "_dom_classes": [],
       "_model_module": "@jupyter-widgets/controls",
       "_model_module_version": "1.5.0",
       "_model_name": "HTMLModel",
       "_view_count": null,
       "_view_module": "@jupyter-widgets/controls",
       "_view_module_version": "1.5.0",
       "_view_name": "HTMLView",
       "description": "",
       "description_tooltip": null,
       "layout": "IPY_MODEL_09e64c13fc0c4ef2916a45d56aa30f61",
       "placeholder": "​",
       "style": "IPY_MODEL_4e16dc3187e140c783d535571aca8547",
       "value": " 1/1 [05:01&lt;00:00, 301.41s/it]"
      }
     },
     "bd778fab1b4e40ec94bd048ea5af1360": {
      "model_module": "@jupyter-widgets/controls",
      "model_module_version": "1.5.0",
      "model_name": "HBoxModel",
      "state": {
       "_dom_classes": [],
       "_model_module": "@jupyter-widgets/controls",
       "_model_module_version": "1.5.0",
       "_model_name": "HBoxModel",
       "_view_count": null,
       "_view_module": "@jupyter-widgets/controls",
       "_view_module_version": "1.5.0",
       "_view_name": "HBoxView",
       "box_style": "",
       "children": [
        "IPY_MODEL_ea67318b966b414691252d1b3000a368",
        "IPY_MODEL_30a8d8a0fd5e4dc6a1105987f9c45c3d",
        "IPY_MODEL_fbd7966d2fcd4dd6b5c8c8cf6d9f2875"
       ],
       "layout": "IPY_MODEL_898e6173c6bb40cc838c7bc428fd22ee"
      }
     },
     "c3b741abeaac4ddaa6d56705a3564003": {
      "model_module": "@jupyter-widgets/base",
      "model_module_version": "1.2.0",
      "model_name": "LayoutModel",
      "state": {
       "_model_module": "@jupyter-widgets/base",
       "_model_module_version": "1.2.0",
       "_model_name": "LayoutModel",
       "_view_count": null,
       "_view_module": "@jupyter-widgets/base",
       "_view_module_version": "1.2.0",
       "_view_name": "LayoutView",
       "align_content": null,
       "align_items": null,
       "align_self": null,
       "border": null,
       "bottom": null,
       "display": null,
       "flex": null,
       "flex_flow": null,
       "grid_area": null,
       "grid_auto_columns": null,
       "grid_auto_flow": null,
       "grid_auto_rows": null,
       "grid_column": null,
       "grid_gap": null,
       "grid_row": null,
       "grid_template_areas": null,
       "grid_template_columns": null,
       "grid_template_rows": null,
       "height": null,
       "justify_content": null,
       "justify_items": null,
       "left": null,
       "margin": null,
       "max_height": null,
       "max_width": null,
       "min_height": null,
       "min_width": null,
       "object_fit": null,
       "object_position": null,
       "order": null,
       "overflow": null,
       "overflow_x": null,
       "overflow_y": null,
       "padding": null,
       "right": null,
       "top": null,
       "visibility": null,
       "width": null
      }
     },
     "d055ba0d69df42fabf48d54d17251b33": {
      "model_module": "@jupyter-widgets/base",
      "model_module_version": "1.2.0",
      "model_name": "LayoutModel",
      "state": {
       "_model_module": "@jupyter-widgets/base",
       "_model_module_version": "1.2.0",
       "_model_name": "LayoutModel",
       "_view_count": null,
       "_view_module": "@jupyter-widgets/base",
       "_view_module_version": "1.2.0",
       "_view_name": "LayoutView",
       "align_content": null,
       "align_items": null,
       "align_self": null,
       "border": null,
       "bottom": null,
       "display": null,
       "flex": null,
       "flex_flow": null,
       "grid_area": null,
       "grid_auto_columns": null,
       "grid_auto_flow": null,
       "grid_auto_rows": null,
       "grid_column": null,
       "grid_gap": null,
       "grid_row": null,
       "grid_template_areas": null,
       "grid_template_columns": null,
       "grid_template_rows": null,
       "height": null,
       "justify_content": null,
       "justify_items": null,
       "left": null,
       "margin": null,
       "max_height": null,
       "max_width": null,
       "min_height": null,
       "min_width": null,
       "object_fit": null,
       "object_position": null,
       "order": null,
       "overflow": null,
       "overflow_x": null,
       "overflow_y": null,
       "padding": null,
       "right": null,
       "top": null,
       "visibility": null,
       "width": "20px"
      }
     },
     "d31e9eff14cf424ea57bc70221608d13": {
      "model_module": "@jupyter-widgets/controls",
      "model_module_version": "1.5.0",
      "model_name": "DescriptionStyleModel",
      "state": {
       "_model_module": "@jupyter-widgets/controls",
       "_model_module_version": "1.5.0",
       "_model_name": "DescriptionStyleModel",
       "_view_count": null,
       "_view_module": "@jupyter-widgets/base",
       "_view_module_version": "1.2.0",
       "_view_name": "StyleView",
       "description_width": ""
      }
     },
     "ea67318b966b414691252d1b3000a368": {
      "model_module": "@jupyter-widgets/controls",
      "model_module_version": "1.5.0",
      "model_name": "HTMLModel",
      "state": {
       "_dom_classes": [],
       "_model_module": "@jupyter-widgets/controls",
       "_model_module_version": "1.5.0",
       "_model_name": "HTMLModel",
       "_view_count": null,
       "_view_module": "@jupyter-widgets/controls",
       "_view_module_version": "1.5.0",
       "_view_name": "HTMLView",
       "description": "",
       "description_tooltip": null,
       "layout": "IPY_MODEL_c3b741abeaac4ddaa6d56705a3564003",
       "placeholder": "​",
       "style": "IPY_MODEL_1fcfd0f516734fa79a0ef06e75df3014",
       "value": ""
      }
     },
     "fbd7966d2fcd4dd6b5c8c8cf6d9f2875": {
      "model_module": "@jupyter-widgets/controls",
      "model_module_version": "1.5.0",
      "model_name": "HTMLModel",
      "state": {
       "_dom_classes": [],
       "_model_module": "@jupyter-widgets/controls",
       "_model_module_version": "1.5.0",
       "_model_name": "HTMLModel",
       "_view_count": null,
       "_view_module": "@jupyter-widgets/controls",
       "_view_module_version": "1.5.0",
       "_view_name": "HTMLView",
       "description": "",
       "description_tooltip": null,
       "layout": "IPY_MODEL_6c90aedaf4b443f9a09bce0ee875a159",
       "placeholder": "​",
       "style": "IPY_MODEL_d31e9eff14cf424ea57bc70221608d13",
       "value": " 627/? [04:03&lt;00:00,  3.38it/s]"
      }
     }
    },
    "version_major": 2,
    "version_minor": 0
   }
  }
 },
 "nbformat": 4,
 "nbformat_minor": 5
}
