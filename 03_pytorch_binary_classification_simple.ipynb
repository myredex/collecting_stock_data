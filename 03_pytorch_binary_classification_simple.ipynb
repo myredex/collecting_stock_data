{
  "nbformat": 4,
  "nbformat_minor": 0,
  "metadata": {
    "colab": {
      "provenance": [],
      "toc_visible": true,
      "authorship_tag": "ABX9TyPdL/NdVmmXH07tHbo7k0FZ",
      "include_colab_link": true
    },
    "kernelspec": {
      "name": "python3",
      "display_name": "Python 3"
    },
    "language_info": {
      "name": "python"
    }
  },
  "cells": [
    {
      "cell_type": "markdown",
      "metadata": {
        "id": "view-in-github",
        "colab_type": "text"
      },
      "source": [
        "<a href=\"https://colab.research.google.com/github/myredex/collecting_stock_data/blob/master/03_pytorch_binary_classification_simple.ipynb\" target=\"_parent\"><img src=\"https://colab.research.google.com/assets/colab-badge.svg\" alt=\"Open In Colab\"/></a>"
      ]
    },
    {
      "cell_type": "markdown",
      "source": [
        "# Binary classification with pytorch"
      ],
      "metadata": {
        "id": "1ayQjL0-IFyr"
      }
    },
    {
      "cell_type": "markdown",
      "source": [
        "## Imports"
      ],
      "metadata": {
        "id": "0oQ6JQNNKavz"
      }
    },
    {
      "cell_type": "code",
      "source": [
        "# Import required libs\n",
        "import torch\n",
        "import torch.nn as nn\n",
        "import torch.optim as optim\n",
        "import torch.nn.functional as F\n",
        "from sklearn.datasets import make_classification\n",
        "from torch.utils.data import DataLoader, TensorDataset\n",
        "import numpy as np\n",
        "from sklearn.model_selection import train_test_split\n",
        "from sklearn.metrics import accuracy_score"
      ],
      "metadata": {
        "id": "d5RKCL59H93L"
      },
      "execution_count": 1,
      "outputs": []
    },
    {
      "cell_type": "markdown",
      "source": [
        "## Generate some data"
      ],
      "metadata": {
        "id": "FIqh_OcBIHhr"
      }
    },
    {
      "cell_type": "code",
      "source": [
        "BATCH_SIZE = 32\n",
        "\n",
        "# Create device agnostic code\n",
        "device = \"cuda\" if torch.cuda.is_available() else \"cpu\"\n",
        "print(f\"Device: {device}\")\n",
        "\n",
        "X, y = make_classification(n_samples=1000, n_features=20, n_informative=10, n_classes=2, random_state=42)\n",
        "\n",
        "# 2. Split the data into training and test sets\n",
        "X_train, X_test, y_train, y_test = train_test_split(X, y, test_size=0.2, random_state=42)\n",
        "\n",
        "# Convert data to PyTorch tensors\n",
        "X_train = torch.tensor(X_train, dtype=torch.float32).to(device)\n",
        "X_test = torch.tensor(X_test, dtype=torch.float32).to(device)\n",
        "y_train = torch.tensor(y_train, dtype=torch.float32).to(device).unsqueeze(dim=1)\n",
        "y_test = torch.tensor(y_test, dtype=torch.float32).to(device).unsqueeze(dim=1)\n",
        "\n",
        "# Create datasets\n",
        "train_dataset = TensorDataset(X_train, y_train)\n",
        "test_dataset = TensorDataset(X_test, y_test)\n",
        "\n",
        "# Create data loader\n",
        "train_loader = DataLoader(train_dataset, batch_size=BATCH_SIZE, shuffle=True)\n",
        "test_loader = DataLoader(test_dataset, batch_size=BATCH_SIZE, shuffle=False)"
      ],
      "metadata": {
        "colab": {
          "base_uri": "https://localhost:8080/"
        },
        "id": "dJRkw5PpLstk",
        "outputId": "13ba602d-f6d5-49b2-dc38-f392c3560805"
      },
      "execution_count": 2,
      "outputs": [
        {
          "output_type": "stream",
          "name": "stdout",
          "text": [
            "Device: cpu\n"
          ]
        }
      ]
    },
    {
      "cell_type": "markdown",
      "source": [
        "## Define model"
      ],
      "metadata": {
        "id": "JvKtQULTO27Y"
      }
    },
    {
      "cell_type": "code",
      "source": [
        "# Create model class\n",
        "class BinaryClassificationModel(nn.Module):\n",
        "    def __init__(self, input_dim):\n",
        "        super(BinaryClassificationModel, self).__init__()\n",
        "        self.layer_1 = nn.Linear(in_features=input_dim, out_features=16)\n",
        "        self.layer_2 = nn.Linear(16, 8)\n",
        "        self.output_layer = nn.Linear(8, 1)\n",
        "        self.relu = nn.ReLU()\n",
        "        self.sigmoid = nn.Sigmoid()\n",
        "\n",
        "    def forward(self, x):\n",
        "        x = self.relu(self.layer_1(x))\n",
        "        x = self.relu(self.layer_2(x))\n",
        "        x = self.sigmoid(self.output_layer(x))\n",
        "        return x\n",
        "\n",
        "\n",
        "# Create model's instance\n",
        "model = BinaryClassificationModel(input_dim=X_train.shape[1]).to(device)\n",
        "\n",
        "# Set optimizer and loss\n",
        "loss_fn = nn.BCELoss()\n",
        "optimizer = optim.Adam(params=model.parameters(), lr=0.001)"
      ],
      "metadata": {
        "id": "dGZY3dusMr66"
      },
      "execution_count": 3,
      "outputs": []
    },
    {
      "cell_type": "markdown",
      "source": [
        "## Train the model"
      ],
      "metadata": {
        "id": "vFh_iyYBqI7F"
      }
    },
    {
      "cell_type": "code",
      "source": [
        "epochs = 10\n",
        "\n",
        "\n",
        "for epoch in range(epochs):\n",
        "    train_loss, train_acc = 0, 0\n",
        "    model.train()\n",
        "    for batch, (X, y) in enumerate(train_loader):\n",
        "        optimizer.zero_grad()\n",
        "        outputs = model(X)\n",
        "        loss = loss_fn(outputs, y)\n",
        "        train_loss += loss\n",
        "        loss.backward()\n",
        "        optimizer.step()\n",
        "    loss = train_loss / len(train_loader)\n",
        "    print(f\"Epoch [{epoch+1}/{epochs}, Loss: {loss.item():.4f}]\")"
      ],
      "metadata": {
        "colab": {
          "base_uri": "https://localhost:8080/"
        },
        "id": "DBfdf-PIoj4I",
        "outputId": "87dd44a8-d0b9-4657-de24-6fdab5df5b0e"
      },
      "execution_count": 4,
      "outputs": [
        {
          "output_type": "stream",
          "name": "stdout",
          "text": [
            "Epoch [1/10, Loss: 0.7146]\n",
            "Epoch [2/10, Loss: 0.6970]\n",
            "Epoch [3/10, Loss: 0.6798]\n",
            "Epoch [4/10, Loss: 0.6524]\n",
            "Epoch [5/10, Loss: 0.6035]\n",
            "Epoch [6/10, Loss: 0.5363]\n",
            "Epoch [7/10, Loss: 0.4544]\n",
            "Epoch [8/10, Loss: 0.3723]\n",
            "Epoch [9/10, Loss: 0.3028]\n",
            "Epoch [10/10, Loss: 0.2539]\n"
          ]
        }
      ]
    },
    {
      "cell_type": "markdown",
      "source": [
        "## Evaluate model"
      ],
      "metadata": {
        "id": "-Xu-IVVp9MFk"
      }
    },
    {
      "cell_type": "code",
      "source": [
        "model.eval()\n",
        "with torch.inference_mode():\n",
        "    test_outputs = model(X_test)\n",
        "    test_predictions = (test_outputs > 0.5).float()\n",
        "    accuracy = (test_predictions.eq(y_test).sum() / y_test.shape[0]).item()\n",
        "    print(f\"Accuracy: {accuracy:.4f}\")"
      ],
      "metadata": {
        "colab": {
          "base_uri": "https://localhost:8080/"
        },
        "id": "hQTWm-cUz31j",
        "outputId": "e8b5667f-4dc5-4a1b-f4a5-4265225d57fd"
      },
      "execution_count": 6,
      "outputs": [
        {
          "output_type": "stream",
          "name": "stdout",
          "text": [
            "Accuracy: 0.9050\n"
          ]
        }
      ]
    },
    {
      "cell_type": "code",
      "source": [],
      "metadata": {
        "id": "GS9dXXeg92Q8"
      },
      "execution_count": null,
      "outputs": []
    }
  ]
}