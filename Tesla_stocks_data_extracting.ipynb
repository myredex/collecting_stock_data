{
 "cells": [
  {
   "cell_type": "markdown",
   "id": "d2db5ce8-e080-4fc9-b3d6-92112a621e75",
   "metadata": {},
   "source": [
    "<h1>Extracting Stock Data of Tesla</h1>"
   ]
  },
  {
   "cell_type": "markdown",
   "id": "56990843-07c6-4bf6-9a28-43e3a8b2633e",
   "metadata": {},
   "source": [
    "General task is: extract the revenue data for Tesla and build a dashboard to compare the price of the stock vs the revenue. "
   ]
  },
  {
   "cell_type": "markdown",
   "id": "3b493d05-63ed-42f9-81b5-794d2e402352",
   "metadata": {},
   "source": [
    "## Objectives\n",
    "\n",
    "*   Find the source of data\n",
    "*   Choose the instrument for data collecton\n",
    "*   Collect the data\n",
    "*   Make the dashboard\n"
   ]
  },
  {
   "cell_type": "markdown",
   "id": "b886e854-c0ff-4b2d-a570-81e64355a7d5",
   "metadata": {},
   "source": [
    "<h2>Table of Contents</h2>"
   ]
  },
  {
   "cell_type": "markdown",
   "id": "86789ab2-6d5d-48ca-bd7b-c76ecbef6dad",
   "metadata": {},
   "source": [
    "<ul>\n",
    "<li><a href='#q1'>Extracting Tesla Stock Data Using yfinance</a></li>\n",
    "<li><a href='#q2'>Extracting Tesla Revenue Data Using Webscraping</a></li>\n",
    "<li><a href='#q3'>Tesla Stock and Revenue Dashboard</a></li>\n",
    "</ul>"
   ]
  },
  {
   "cell_type": "markdown",
   "id": "61b6768d-758d-4e3e-b6f6-f740d9319140",
   "metadata": {
    "tags": []
   },
   "source": [
    "<a id='q1'></a>\n",
    "<h2>Extracting Tesla Stock Data Using yfinance</h2>"
   ]
  },
  {
   "cell_type": "code",
   "execution_count": 20,
   "id": "825f2bf2-52fe-4fc0-b468-ac4e35c9bdb0",
   "metadata": {},
   "outputs": [
    {
     "name": "stdout",
     "output_type": "stream",
     "text": [
      "Requirement already satisfied: yfinance==0.1.67 in /home/timur/anaconda3/lib/python3.9/site-packages (0.1.67)\n",
      "Requirement already satisfied: pandas>=0.24 in /home/timur/anaconda3/lib/python3.9/site-packages (from yfinance==0.1.67) (1.3.4)\n",
      "Requirement already satisfied: multitasking>=0.0.7 in /home/timur/anaconda3/lib/python3.9/site-packages (from yfinance==0.1.67) (0.0.10)\n",
      "Requirement already satisfied: lxml>=4.5.1 in /home/timur/anaconda3/lib/python3.9/site-packages (from yfinance==0.1.67) (4.6.4)\n",
      "Requirement already satisfied: requests>=2.20 in /home/timur/anaconda3/lib/python3.9/site-packages (from yfinance==0.1.67) (2.26.0)\n",
      "Requirement already satisfied: numpy>=1.15 in /home/timur/anaconda3/lib/python3.9/site-packages (from yfinance==0.1.67) (1.20.3)\n",
      "Requirement already satisfied: python-dateutil>=2.7.3 in /home/timur/anaconda3/lib/python3.9/site-packages (from pandas>=0.24->yfinance==0.1.67) (2.8.2)\n",
      "Requirement already satisfied: pytz>=2017.3 in /home/timur/anaconda3/lib/python3.9/site-packages (from pandas>=0.24->yfinance==0.1.67) (2021.3)\n",
      "Requirement already satisfied: six>=1.5 in /home/timur/anaconda3/lib/python3.9/site-packages (from python-dateutil>=2.7.3->pandas>=0.24->yfinance==0.1.67) (1.16.0)\n",
      "Requirement already satisfied: idna<4,>=2.5 in /home/timur/anaconda3/lib/python3.9/site-packages (from requests>=2.20->yfinance==0.1.67) (3.2)\n",
      "Requirement already satisfied: certifi>=2017.4.17 in /home/timur/anaconda3/lib/python3.9/site-packages (from requests>=2.20->yfinance==0.1.67) (2021.10.8)\n",
      "Requirement already satisfied: urllib3<1.27,>=1.21.1 in /home/timur/anaconda3/lib/python3.9/site-packages (from requests>=2.20->yfinance==0.1.67) (1.26.7)\n",
      "Requirement already satisfied: charset-normalizer~=2.0.0 in /home/timur/anaconda3/lib/python3.9/site-packages (from requests>=2.20->yfinance==0.1.67) (2.0.4)\n",
      "\n",
      "                  __    __    __    __\n",
      "                 /  \\  /  \\  /  \\  /  \\\n",
      "                /    \\/    \\/    \\/    \\\n",
      "███████████████/  /██/  /██/  /██/  /████████████████████████\n",
      "              /  / \\   / \\   / \\   / \\  \\____\n",
      "             /  /   \\_/   \\_/   \\_/   \\    o \\__,\n",
      "            / _/                       \\_____/  `\n",
      "            |/\n",
      "        ███╗   ███╗ █████╗ ███╗   ███╗██████╗  █████╗\n",
      "        ████╗ ████║██╔══██╗████╗ ████║██╔══██╗██╔══██╗\n",
      "        ██╔████╔██║███████║██╔████╔██║██████╔╝███████║\n",
      "        ██║╚██╔╝██║██╔══██║██║╚██╔╝██║██╔══██╗██╔══██║\n",
      "        ██║ ╚═╝ ██║██║  ██║██║ ╚═╝ ██║██████╔╝██║  ██║\n",
      "        ╚═╝     ╚═╝╚═╝  ╚═╝╚═╝     ╚═╝╚═════╝ ╚═╝  ╚═╝\n",
      "\n",
      "        mamba (0.7.6) supported by @QuantStack\n",
      "\n",
      "        GitHub:  https://github.com/mamba-org/mamba\n",
      "        Twitter: https://twitter.com/QuantStack\n",
      "\n",
      "█████████████████████████████████████████████████████████████\n",
      "\n",
      "\n",
      "Looking for: ['bs4==4.10.0']\n",
      "\n",
      "pkgs/main/linux-64       [>                   ] (--:--) No change\n",
      "pkgs/main/linux-64       [====================] (00m:00s) No change\n",
      "pkgs/main/linux-64       [====================] (00m:00s) No change\n",
      "pkgs/main/noarch         [=>                  ] (--:--) No change\n",
      "pkgs/main/noarch         [====================] (00m:00s) No change\n",
      "pkgs/main/noarch         [====================] (00m:00s) No change\n",
      "pkgs/r/linux-64          [=>                  ] (--:--) No change\n",
      "pkgs/r/linux-64          [====================] (00m:00s) No change\n",
      "pkgs/r/linux-64          [====================] (00m:00s) No change\n",
      "pkgs/r/noarch            [=>                  ] (--:--) No change\n",
      "pkgs/r/noarch            [====================] (00m:00s) No change\n",
      "pkgs/r/noarch            [====================] (00m:00s) No change\n",
      "Transaction\n",
      "\n",
      "  Prefix: /home/timur/anaconda3\n",
      "\n",
      "  Updating specs:\n",
      "\n",
      "   - bs4==4.10.0\n",
      "\n",
      "\n",
      "  Package             Version  Build           Channel                  Size\n",
      "──────────────────────────────────────────────────────────────────────────────\n",
      "  Change:\n",
      "──────────────────────────────────────────────────────────────────────────────\n",
      "\n",
      "\u001b[31m  certifi        \u001b[00m   2021.10.8  py39h06a4308_0  installed                    \n",
      "\u001b[32m  certifi        \u001b[00m   2021.10.8  py39h06a4308_2  pkgs/main/linux-64\u001b[32m     Cached\u001b[00m\n",
      "\n",
      "  Upgrade:\n",
      "──────────────────────────────────────────────────────────────────────────────\n",
      "\n",
      "\u001b[31m  ca-certificates\u001b[00m  2021.10.26  h06a4308_2      installed                    \n",
      "\u001b[32m  ca-certificates\u001b[00m   2022.4.26  h06a4308_0      pkgs/main/linux-64\u001b[32m     Cached\u001b[00m\n",
      "\u001b[31m  openssl        \u001b[00m      1.1.1l  h7f8727e_0      installed                    \n",
      "\u001b[32m  openssl        \u001b[00m      1.1.1n  h7f8727e_0      pkgs/main/linux-64\u001b[32m     Cached\u001b[00m\n",
      "\n",
      "  Downgrade:\n",
      "──────────────────────────────────────────────────────────────────────────────\n",
      "\n",
      "\u001b[31m  anaconda       \u001b[00m     2021.11  py39_0          installed                    \n",
      "\u001b[32m  anaconda       \u001b[00m      custom  py39_1          pkgs/main/linux-64\u001b[32m     Cached\u001b[00m\n",
      "\n",
      "  Summary:\n",
      "\n",
      "  Change: 1 packages\n",
      "  Upgrade: 2 packages\n",
      "  Downgrade: 1 packages\n",
      "\n",
      "  Total download: 0  B\n",
      "\n",
      "──────────────────────────────────────────────────────────────────────────────\n",
      "\n",
      "Preparing transaction: done\n",
      "Verifying transaction: done\n",
      "Executing transaction: done\n",
      "\n",
      "                  __    __    __    __\n",
      "                 /  \\  /  \\  /  \\  /  \\\n",
      "                /    \\/    \\/    \\/    \\\n",
      "███████████████/  /██/  /██/  /██/  /████████████████████████\n",
      "              /  / \\   / \\   / \\   / \\  \\____\n",
      "             /  /   \\_/   \\_/   \\_/   \\    o \\__,\n",
      "            / _/                       \\_____/  `\n",
      "            |/\n",
      "        ███╗   ███╗ █████╗ ███╗   ███╗██████╗  █████╗\n",
      "        ████╗ ████║██╔══██╗████╗ ████║██╔══██╗██╔══██╗\n",
      "        ██╔████╔██║███████║██╔████╔██║██████╔╝███████║\n",
      "        ██║╚██╔╝██║██╔══██║██║╚██╔╝██║██╔══██╗██╔══██║\n",
      "        ██║ ╚═╝ ██║██║  ██║██║ ╚═╝ ██║██████╔╝██║  ██║\n",
      "        ╚═╝     ╚═╝╚═╝  ╚═╝╚═╝     ╚═╝╚═════╝ ╚═╝  ╚═╝\n",
      "\n",
      "        mamba (0.7.6) supported by @QuantStack\n",
      "\n",
      "        GitHub:  https://github.com/mamba-org/mamba\n",
      "        Twitter: https://twitter.com/QuantStack\n",
      "\n",
      "█████████████████████████████████████████████████████████████\n",
      "\n",
      "\n",
      "Looking for: ['html5lib==1.1']\n",
      "\n",
      "pkgs/main/linux-64       Using cache\n",
      "pkgs/main/noarch         Using cache\n",
      "pkgs/r/linux-64          Using cache\n",
      "pkgs/r/noarch            Using cache\n",
      "Transaction\n",
      "\n",
      "  Prefix: /home/timur/anaconda3\n",
      "\n",
      "  All requested packages already installed\n",
      "\n"
     ]
    }
   ],
   "source": [
    "#Install the Yahoo finance libruary\n",
    "!pip install yfinance==0.1.67 \n",
    "\n",
    "#Install libruaries for  webscraping\n",
    "!mamba install bs4==4.10.0 -y\n",
    "!mamba install html5lib==1.1 -y\n",
    "#!pip install lxml==4.6.4"
   ]
  },
  {
   "cell_type": "code",
   "execution_count": 21,
   "id": "9b0d303a-22c7-4f23-ad98-3b3ee36a149c",
   "metadata": {},
   "outputs": [
    {
     "name": "stdout",
     "output_type": "stream",
     "text": [
      "Done\n"
     ]
    }
   ],
   "source": [
    "#Import Yahoo finance and Pandas\n",
    "import yfinance as yf\n",
    "import pandas as pd\n",
    "\n",
    "#Import libruaries for webscrapping\n",
    "import requests\n",
    "from bs4 import BeautifulSoup\n",
    "print(\"Done\")"
   ]
  },
  {
   "cell_type": "markdown",
   "id": "984a6fed-0b42-4512-8eb6-54190fe9de9c",
   "metadata": {},
   "source": [
    "<a id='q1'></a>\n",
    "<h2>Extracting Tesla Stock Data Using yfinance</h2>"
   ]
  },
  {
   "cell_type": "markdown",
   "id": "417a756c-ad57-48b0-93ee-d91dfab940ce",
   "metadata": {},
   "source": [
    "Using <b>Ticker</b> function we need to extract data of the stock from Yahoo finance. And create an object <b>tesla</b>. Ticker of the Tesla stock is <b>TSLA</b>."
   ]
  },
  {
   "cell_type": "code",
   "execution_count": 22,
   "id": "dafbe5a1-5f3d-4667-b7c8-4e2fb2c0d917",
   "metadata": {},
   "outputs": [
    {
     "name": "stdout",
     "output_type": "stream",
     "text": [
      "Done\n"
     ]
    }
   ],
   "source": [
    "tesla = yf.Ticker(\"TSLA\") #Get data from Yahoo finance and create an object\n",
    "print(\"Done\")"
   ]
  },
  {
   "cell_type": "markdown",
   "id": "098ea56b-aba4-4f2d-99dc-8a0d82701ad1",
   "metadata": {},
   "source": [
    "Using function <b>history</b> we'll get all availiable history data for Tesla stocks."
   ]
  },
  {
   "cell_type": "code",
   "execution_count": 23,
   "id": "085d5296-5ee1-427d-8459-a1ebd5cb5008",
   "metadata": {},
   "outputs": [
    {
     "data": {
      "text/html": [
       "<div>\n",
       "<style scoped>\n",
       "    .dataframe tbody tr th:only-of-type {\n",
       "        vertical-align: middle;\n",
       "    }\n",
       "\n",
       "    .dataframe tbody tr th {\n",
       "        vertical-align: top;\n",
       "    }\n",
       "\n",
       "    .dataframe thead th {\n",
       "        text-align: right;\n",
       "    }\n",
       "</style>\n",
       "<table border=\"1\" class=\"dataframe\">\n",
       "  <thead>\n",
       "    <tr style=\"text-align: right;\">\n",
       "      <th></th>\n",
       "      <th>Open</th>\n",
       "      <th>High</th>\n",
       "      <th>Low</th>\n",
       "      <th>Close</th>\n",
       "      <th>Volume</th>\n",
       "      <th>Dividends</th>\n",
       "      <th>Stock Splits</th>\n",
       "    </tr>\n",
       "    <tr>\n",
       "      <th>Date</th>\n",
       "      <th></th>\n",
       "      <th></th>\n",
       "      <th></th>\n",
       "      <th></th>\n",
       "      <th></th>\n",
       "      <th></th>\n",
       "      <th></th>\n",
       "    </tr>\n",
       "  </thead>\n",
       "  <tbody>\n",
       "    <tr>\n",
       "      <th>2010-06-29</th>\n",
       "      <td>3.800</td>\n",
       "      <td>5.000</td>\n",
       "      <td>3.508</td>\n",
       "      <td>4.778</td>\n",
       "      <td>93831500</td>\n",
       "      <td>0</td>\n",
       "      <td>0.0</td>\n",
       "    </tr>\n",
       "    <tr>\n",
       "      <th>2010-06-30</th>\n",
       "      <td>5.158</td>\n",
       "      <td>6.084</td>\n",
       "      <td>4.660</td>\n",
       "      <td>4.766</td>\n",
       "      <td>85935500</td>\n",
       "      <td>0</td>\n",
       "      <td>0.0</td>\n",
       "    </tr>\n",
       "    <tr>\n",
       "      <th>2010-07-01</th>\n",
       "      <td>5.000</td>\n",
       "      <td>5.184</td>\n",
       "      <td>4.054</td>\n",
       "      <td>4.392</td>\n",
       "      <td>41094000</td>\n",
       "      <td>0</td>\n",
       "      <td>0.0</td>\n",
       "    </tr>\n",
       "    <tr>\n",
       "      <th>2010-07-02</th>\n",
       "      <td>4.600</td>\n",
       "      <td>4.620</td>\n",
       "      <td>3.742</td>\n",
       "      <td>3.840</td>\n",
       "      <td>25699000</td>\n",
       "      <td>0</td>\n",
       "      <td>0.0</td>\n",
       "    </tr>\n",
       "    <tr>\n",
       "      <th>2010-07-06</th>\n",
       "      <td>4.000</td>\n",
       "      <td>4.000</td>\n",
       "      <td>3.166</td>\n",
       "      <td>3.222</td>\n",
       "      <td>34334500</td>\n",
       "      <td>0</td>\n",
       "      <td>0.0</td>\n",
       "    </tr>\n",
       "  </tbody>\n",
       "</table>\n",
       "</div>"
      ],
      "text/plain": [
       "             Open   High    Low  Close    Volume  Dividends  Stock Splits\n",
       "Date                                                                     \n",
       "2010-06-29  3.800  5.000  3.508  4.778  93831500          0           0.0\n",
       "2010-06-30  5.158  6.084  4.660  4.766  85935500          0           0.0\n",
       "2010-07-01  5.000  5.184  4.054  4.392  41094000          0           0.0\n",
       "2010-07-02  4.600  4.620  3.742  3.840  25699000          0           0.0\n",
       "2010-07-06  4.000  4.000  3.166  3.222  34334500          0           0.0"
      ]
     },
     "execution_count": 23,
     "metadata": {},
     "output_type": "execute_result"
    }
   ],
   "source": [
    "tesla_stock_history_data = tesla.history(period=\"max\") #Get history data of the stocks\n",
    "tesla_stock_history_data.head()    #Show the head of the Dataset. If you see preview of the table it means that stock data extracted successfully"
   ]
  },
  {
   "cell_type": "markdown",
   "id": "a5a2a561-6ea9-49d8-a0b7-1efa02c430a2",
   "metadata": {},
   "source": [
    "When data received we need to visualize the data. I'll use <b>Open</b> price to build the chart."
   ]
  },
  {
   "cell_type": "code",
   "execution_count": 24,
   "id": "47fabd58-6a1d-43a1-9713-3eb47a354cb0",
   "metadata": {},
   "outputs": [
    {
     "data": {
      "text/plain": [
       "<AxesSubplot:xlabel='Date'>"
      ]
     },
     "execution_count": 24,
     "metadata": {},
     "output_type": "execute_result"
    },
    {
     "data": {
      "image/png": "[encoded data removed]",
      "text/plain": [
       "<Figure size 432x288 with 1 Axes>"
      ]
     },
     "metadata": {
      "needs_background": "light"
     },
     "output_type": "display_data"
    }
   ],
   "source": [
    "tesla_stock_history_data.reset_index(inplace=True)  #Reset the index of the DataFrame\n",
    "tesla_stock_history_data.plot(x=\"Date\", y=\"Open\")   #Plot"
   ]
  },
  {
   "cell_type": "markdown",
   "id": "71f0a3d1-3d3f-477e-83a9-bbce8335526f",
   "metadata": {},
   "source": [
    "<a id='q2'></a>\n",
    "<h2>Extracting Tesla Revenue Data Using Webscraping</h2>"
   ]
  },
  {
   "cell_type": "markdown",
   "id": "775b9372-9340-486c-a48f-784da7d2d1e2",
   "metadata": {},
   "source": [
    "Now we need to extract history data of <b>Revenue</b> for Tesla. I'll be using macrotrends.net website as a source. First we need set <b>url</b> variable."
   ]
  },
  {
   "cell_type": "code",
   "execution_count": 25,
   "id": "c2f53484-3b7b-431a-8645-e25eda2a6285",
   "metadata": {},
   "outputs": [],
   "source": [
    "tesla_revenue_url = \"https://www.macrotrends.net/stocks/charts/TSLA/tesla/revenue\"  #set url"
   ]
  },
  {
   "cell_type": "markdown",
   "id": "8e1e6b33-3f6b-4259-bfeb-46f3fb944f9c",
   "metadata": {},
   "source": [
    "Using <b>requests</b> libruary we'll get all the web page as text and create <b>Beautiful Soup</b> object. "
   ]
  },
  {
   "cell_type": "code",
   "execution_count": 26,
   "id": "2ce04d60-5c3b-4ca2-b10a-6e9b8442fcd6",
   "metadata": {},
   "outputs": [
    {
     "data": {
      "text/plain": [
       "<title>Tesla Revenue 2010-2022 | TSLA | MacroTrends</title>"
      ]
     },
     "execution_count": 26,
     "metadata": {},
     "output_type": "execute_result"
    }
   ],
   "source": [
    "html_data_for_tesla = requests.get(tesla_revenue_url).text   #get data from the webpage\n",
    "souped_html_for_tesla = BeautifulSoup(html_data_for_tesla, 'html5lib') #Use beautifulsoup\n",
    "souped_html_for_tesla.title"
   ]
  },
  {
   "cell_type": "markdown",
   "id": "cbda8e3d-7930-494f-a81d-33e8db5fd678",
   "metadata": {},
   "source": [
    "Now we need find the right table at the object and build <b>Dataframe</b>. During this step we need to convert data type from <b>srt</b> to <b>float64</b> because revenue data has cymbols <b>$</b> and <b>comma</b>."
   ]
  },
  {
   "cell_type": "code",
   "execution_count": 27,
   "id": "f2dde5dc-dcc4-4276-8dd7-ca5fc05b74e1",
   "metadata": {},
   "outputs": [
    {
     "name": "stdout",
     "output_type": "stream",
     "text": [
      "Missed rows: 1\n"
     ]
    }
   ],
   "source": [
    "tesla_revenue_table = souped_html_for_tesla.find_all('table')[1]   # Find the second table with Quarterly Revenue /or use 0 for first table\n",
    "\n",
    "tesla_revenue_dataframe = pd.DataFrame(columns=[\"Date\", \"Revenue\"]) #Create blank dataframe \n",
    " \n",
    "# Find all tr tags and put data into Dataframe\n",
    "count_of_missed_rows = 0\n",
    "for row in tesla_revenue_table.find(\"tbody\").find_all(\"tr\"):  \n",
    "\n",
    "    col = row.find_all(\"td\") \n",
    "    date = col[0].text \n",
    "    Revenue = col[1].text\n",
    "    Revenue = Revenue.replace('$', '').replace(',', '')\n",
    "\n",
    "    if Revenue.isdigit():\n",
    "        Revenue = float(Revenue)\n",
    "        tesla_revenue_dataframe = tesla_revenue_dataframe.append({\"Date\":date, \"Revenue\":Revenue}, ignore_index=True)\n",
    "    else: \n",
    "        count_of_missed_rows = count_of_missed_rows + 1\n",
    "        \n",
    "print(\"Missed rows:\", count_of_missed_rows) #How many rows were missed"
   ]
  },
  {
   "cell_type": "markdown",
   "id": "b7ff2fa1-5590-46e1-b4bd-b273f631ce2c",
   "metadata": {},
   "source": [
    "We can see that 1 row was missed because there is no any data. The string was empty. Let's look a the dataframe."
   ]
  },
  {
   "cell_type": "code",
   "execution_count": 28,
   "id": "6f79d092-4cb3-4285-a137-7e4339afaf6e",
   "metadata": {},
   "outputs": [
    {
     "data": {
      "text/html": [
       "<div>\n",
       "<style scoped>\n",
       "    .dataframe tbody tr th:only-of-type {\n",
       "        vertical-align: middle;\n",
       "    }\n",
       "\n",
       "    .dataframe tbody tr th {\n",
       "        vertical-align: top;\n",
       "    }\n",
       "\n",
       "    .dataframe thead th {\n",
       "        text-align: right;\n",
       "    }\n",
       "</style>\n",
       "<table border=\"1\" class=\"dataframe\">\n",
       "  <thead>\n",
       "    <tr style=\"text-align: right;\">\n",
       "      <th></th>\n",
       "      <th>Date</th>\n",
       "      <th>Revenue</th>\n",
       "    </tr>\n",
       "  </thead>\n",
       "  <tbody>\n",
       "    <tr>\n",
       "      <th>0</th>\n",
       "      <td>2022-03-31</td>\n",
       "      <td>18756.0</td>\n",
       "    </tr>\n",
       "    <tr>\n",
       "      <th>1</th>\n",
       "      <td>2021-12-31</td>\n",
       "      <td>15339.0</td>\n",
       "    </tr>\n",
       "    <tr>\n",
       "      <th>2</th>\n",
       "      <td>2021-09-30</td>\n",
       "      <td>13757.0</td>\n",
       "    </tr>\n",
       "    <tr>\n",
       "      <th>3</th>\n",
       "      <td>2021-06-30</td>\n",
       "      <td>11958.0</td>\n",
       "    </tr>\n",
       "    <tr>\n",
       "      <th>4</th>\n",
       "      <td>2021-03-31</td>\n",
       "      <td>10389.0</td>\n",
       "    </tr>\n",
       "  </tbody>\n",
       "</table>\n",
       "</div>"
      ],
      "text/plain": [
       "         Date  Revenue\n",
       "0  2022-03-31  18756.0\n",
       "1  2021-12-31  15339.0\n",
       "2  2021-09-30  13757.0\n",
       "3  2021-06-30  11958.0\n",
       "4  2021-03-31  10389.0"
      ]
     },
     "execution_count": 28,
     "metadata": {},
     "output_type": "execute_result"
    }
   ],
   "source": [
    "tesla_revenue_dataframe.head() #Let's see the dataframe"
   ]
  },
  {
   "cell_type": "markdown",
   "id": "c759bb5b-373a-45ac-b9c0-ae3bc5248255",
   "metadata": {},
   "source": [
    "Here we need to change data type of <b>Date</b> column from <b>str</b> to <b>datetime64[ns]</b>. To have the abiliby to plot dataframe."
   ]
  },
  {
   "cell_type": "code",
   "execution_count": 29,
   "id": "3c18db63-701b-4814-94df-3a1571909649",
   "metadata": {},
   "outputs": [
    {
     "data": {
      "text/plain": [
       "Date       datetime64[ns]\n",
       "Revenue           float64\n",
       "dtype: object"
      ]
     },
     "execution_count": 29,
     "metadata": {},
     "output_type": "execute_result"
    }
   ],
   "source": [
    "tesla_revenue_dataframe[[\"Date\"]] = tesla_revenue_dataframe[[\"Date\"]].apply(pd.to_datetime) #Set srt date to datetime64\n",
    "tesla_revenue_dataframe.dtypes"
   ]
  },
  {
   "cell_type": "markdown",
   "id": "bd7da72d-65e8-482c-9fb0-6a4863cc8adb",
   "metadata": {},
   "source": [
    "Now we can plot the chart."
   ]
  },
  {
   "cell_type": "code",
   "execution_count": 30,
   "id": "4182f5b0-db16-45e2-b9dc-a084bcd359f2",
   "metadata": {},
   "outputs": [
    {
     "data": {
      "text/plain": [
       "<AxesSubplot:xlabel='Date'>"
      ]
     },
     "execution_count": 30,
     "metadata": {},
     "output_type": "execute_result"
    },
    {
     "data": {
      "image/png": "[encoded data removed]",
      "text/plain": [
       "<Figure size 432x288 with 1 Axes>"
      ]
     },
     "metadata": {
      "needs_background": "light"
     },
     "output_type": "display_data"
    }
   ],
   "source": [
    "tesla_revenue_dataframe.plot(y=\"Revenue\", x=\"Date\")"
   ]
  },
  {
   "cell_type": "markdown",
   "id": "7219991d-3b90-450c-8340-571132174f3e",
   "metadata": {},
   "source": [
    "Let's go ahead."
   ]
  },
  {
   "cell_type": "markdown",
   "id": "658148f6-62a1-40dc-9776-130a1e2e0c1b",
   "metadata": {
    "tags": []
   },
   "source": [
    "<a id='q3'></a>\n",
    "<h2>Tesla Stock and Revenue Dashboard</h2>"
   ]
  },
  {
   "cell_type": "markdown",
   "id": "ee73bb9d-9a82-4f68-8005-e306b2b98c9d",
   "metadata": {},
   "source": [
    "Now we can merge two dataframes. We'll find date values which exist in both dataframes and join rows."
   ]
  },
  {
   "cell_type": "code",
   "execution_count": 36,
   "id": "57f22204-ab57-4a44-b667-f346b12ed4b9",
   "metadata": {},
   "outputs": [
    {
     "data": {
      "text/html": [
       "<div>\n",
       "<style scoped>\n",
       "    .dataframe tbody tr th:only-of-type {\n",
       "        vertical-align: middle;\n",
       "    }\n",
       "\n",
       "    .dataframe tbody tr th {\n",
       "        vertical-align: top;\n",
       "    }\n",
       "\n",
       "    .dataframe thead th {\n",
       "        text-align: right;\n",
       "    }\n",
       "</style>\n",
       "<table border=\"1\" class=\"dataframe\">\n",
       "  <thead>\n",
       "    <tr style=\"text-align: right;\">\n",
       "      <th></th>\n",
       "      <th>Date</th>\n",
       "      <th>Revenue</th>\n",
       "      <th>Open</th>\n",
       "      <th>High</th>\n",
       "      <th>Low</th>\n",
       "      <th>Close</th>\n",
       "      <th>Volume</th>\n",
       "      <th>Dividends</th>\n",
       "      <th>Stock Splits</th>\n",
       "    </tr>\n",
       "  </thead>\n",
       "  <tbody>\n",
       "    <tr>\n",
       "      <th>0</th>\n",
       "      <td>2022-03-31</td>\n",
       "      <td>18756.0</td>\n",
       "      <td>1094.569946</td>\n",
       "      <td>1103.140015</td>\n",
       "      <td>1076.640015</td>\n",
       "      <td>1077.599976</td>\n",
       "      <td>16330900</td>\n",
       "      <td>0</td>\n",
       "      <td>0.0</td>\n",
       "    </tr>\n",
       "    <tr>\n",
       "      <th>1</th>\n",
       "      <td>2021-12-31</td>\n",
       "      <td>15339.0</td>\n",
       "      <td>1073.439941</td>\n",
       "      <td>1082.000000</td>\n",
       "      <td>1054.589966</td>\n",
       "      <td>1056.780029</td>\n",
       "      <td>13577900</td>\n",
       "      <td>0</td>\n",
       "      <td>0.0</td>\n",
       "    </tr>\n",
       "    <tr>\n",
       "      <th>2</th>\n",
       "      <td>2021-09-30</td>\n",
       "      <td>13757.0</td>\n",
       "      <td>781.000000</td>\n",
       "      <td>789.130005</td>\n",
       "      <td>775.000000</td>\n",
       "      <td>775.479980</td>\n",
       "      <td>17956000</td>\n",
       "      <td>0</td>\n",
       "      <td>0.0</td>\n",
       "    </tr>\n",
       "    <tr>\n",
       "      <th>3</th>\n",
       "      <td>2021-06-30</td>\n",
       "      <td>11958.0</td>\n",
       "      <td>679.770020</td>\n",
       "      <td>692.809998</td>\n",
       "      <td>678.140015</td>\n",
       "      <td>679.700012</td>\n",
       "      <td>18924900</td>\n",
       "      <td>0</td>\n",
       "      <td>0.0</td>\n",
       "    </tr>\n",
       "    <tr>\n",
       "      <th>4</th>\n",
       "      <td>2021-03-31</td>\n",
       "      <td>10389.0</td>\n",
       "      <td>646.619995</td>\n",
       "      <td>672.000000</td>\n",
       "      <td>641.109985</td>\n",
       "      <td>667.929993</td>\n",
       "      <td>33337300</td>\n",
       "      <td>0</td>\n",
       "      <td>0.0</td>\n",
       "    </tr>\n",
       "  </tbody>\n",
       "</table>\n",
       "</div>"
      ],
      "text/plain": [
       "        Date  Revenue         Open         High          Low        Close  \\\n",
       "0 2022-03-31  18756.0  1094.569946  1103.140015  1076.640015  1077.599976   \n",
       "1 2021-12-31  15339.0  1073.439941  1082.000000  1054.589966  1056.780029   \n",
       "2 2021-09-30  13757.0   781.000000   789.130005   775.000000   775.479980   \n",
       "3 2021-06-30  11958.0   679.770020   692.809998   678.140015   679.700012   \n",
       "4 2021-03-31  10389.0   646.619995   672.000000   641.109985   667.929993   \n",
       "\n",
       "     Volume  Dividends  Stock Splits  \n",
       "0  16330900          0           0.0  \n",
       "1  13577900          0           0.0  \n",
       "2  17956000          0           0.0  \n",
       "3  18924900          0           0.0  \n",
       "4  33337300          0           0.0  "
      ]
     },
     "execution_count": 36,
     "metadata": {},
     "output_type": "execute_result"
    }
   ],
   "source": [
    "df_tesla_revenue_and_stock_price = tesla_revenue_dataframe.merge(tesla_stock_history_data, how='inner') #Merge df's\n",
    "df_tesla_revenue_and_stock_price.head()"
   ]
  },
  {
   "cell_type": "markdown",
   "id": "b47bf41a-42ec-46e4-af9d-0b283eb575df",
   "metadata": {},
   "source": [
    "Let's visualize depency between stock price and revenue"
   ]
  },
  {
   "cell_type": "code",
   "execution_count": 32,
   "id": "56bd6ce1-6219-4cf7-a314-6c44ac52156b",
   "metadata": {},
   "outputs": [
    {
     "data": {
      "text/plain": [
       "<AxesSubplot:xlabel='Revenue', ylabel='Open'>"
      ]
     },
     "execution_count": 32,
     "metadata": {},
     "output_type": "execute_result"
    },
    {
     "data": {
      "image/png": "[encoded data removed]",
      "text/plain": [
       "<Figure size 432x288 with 1 Axes>"
      ]
     },
     "metadata": {
      "needs_background": "light"
     },
     "output_type": "display_data"
    }
   ],
   "source": [
    "df_tesla_revenue_and_stock_price.plot(x=\"Revenue\", y=\"Open\", kind=\"scatter\") #Plot the result"
   ]
  },
  {
   "cell_type": "markdown",
   "id": "410b5d0d-e805-40bc-a990-f553c6241aaa",
   "metadata": {},
   "source": [
    "Here is the result. "
   ]
  },
  {
   "cell_type": "markdown",
   "id": "cab87512-019b-4929-9d6c-881755f58540",
   "metadata": {
    "tags": []
   },
   "source": [
    "## Author\n",
    "\n",
    "Timur Talikbayev"
   ]
  }
 ],
 "metadata": {
  "kernelspec": {
   "display_name": "Python 3 (ipykernel)",
   "language": "python",
   "name": "python3"
  },
  "language_info": {
   "codemirror_mode": {
    "name": "ipython",
    "version": 3
   },
   "file_extension": ".py",
   "mimetype": "text/x-python",
   "name": "python",
   "nbconvert_exporter": "python",
   "pygments_lexer": "ipython3",
   "version": "3.9.7"
  }
 },
 "nbformat": 4,
 "nbformat_minor": 5
}
